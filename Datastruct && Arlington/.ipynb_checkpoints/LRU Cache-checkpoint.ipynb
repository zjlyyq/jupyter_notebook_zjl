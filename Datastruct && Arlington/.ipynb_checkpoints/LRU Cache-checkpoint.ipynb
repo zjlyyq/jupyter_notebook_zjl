{
 "cells": [
  {
   "cell_type": "markdown",
   "metadata": {},
   "source": [
    "### LRU Cache\n",
    "![](./static/imgs/LRU.png)"
   ]
  },
  {
   "cell_type": "code",
   "execution_count": 3,
   "metadata": {},
   "outputs": [
    {
     "data": {
      "text/html": [
       "\n",
       "        <iframe\n",
       "            width=\"800\"\n",
       "            height=\"450\"\n",
       "            src=\"https://leetcode-cn.com/problems/lru-cache/\"\n",
       "            frameborder=\"0\"\n",
       "            allowfullscreen\n",
       "        ></iframe>\n",
       "        "
      ],
      "text/plain": [
       "<IPython.lib.display.IFrame at 0x7f88e46e4b20>"
      ]
     },
     "execution_count": 3,
     "metadata": {},
     "output_type": "execute_result"
    }
   ],
   "source": [
    "from IPython.display import IFrame\n",
    "IFrame('https://leetcode-cn.com/problems/lru-cache/', width=800, height=450)"
   ]
  },
  {
   "cell_type": "code",
   "execution_count": 20,
   "metadata": {},
   "outputs": [
    {
     "name": "stdout",
     "output_type": "stream",
     "text": [
      "{'d': 3, 'a': 1, 'b': 2}\n",
      "[('d', 3), ('a', 1), ('b', 2)]\n",
      "('b', 2)\n",
      "{'d': 3, 'a': 1}\n"
     ]
    }
   ],
   "source": [
    "'''\n",
    "从python3.7后，自带的数据结构dict 已经能记住键值插入的顺序 \n",
    "'''\n",
    "from collections import OrderedDict\n",
    "\n",
    "d = OrderedDict.fromkeys(\"abcde\")\n",
    "\n",
    "d = dict()\n",
    "d['d'] = 3\n",
    "d['a'] = 1\n",
    "d['b'] = 2\n",
    "print(d)\n",
    "print(list(d.items()))\n",
    "key = list(d.items())[len(list(d.items()))-1]\n",
    "print(key)\n",
    "del d[key[0]]\n",
    "print(d)"
   ]
  },
  {
   "cell_type": "code",
   "execution_count": null,
   "metadata": {},
   "outputs": [],
   "source": [
    "class LRUCache:\n",
    "\n",
    "    def __init__(self, capacity: int):\n",
    "        self.size = capacity\n",
    "        self.cache = dict()\n",
    "\n",
    "    def get(self, key: int) -> int:\n",
    "\n",
    "\n",
    "    def put(self, key: int, value: int) -> None:\n",
    "\n",
    "\n",
    "\n",
    "# Your LRUCache object will be instantiated and called as such:\n",
    "# obj = LRUCache(capacity)\n",
    "# param_1 = obj.get(key)\n",
    "# obj.put(key,value)"
   ]
  }
 ],
 "metadata": {
  "kernelspec": {
   "display_name": "Python 3",
   "language": "python",
   "name": "python3"
  },
  "language_info": {
   "codemirror_mode": {
    "name": "ipython",
    "version": 3
   },
   "file_extension": ".py",
   "mimetype": "text/x-python",
   "name": "python",
   "nbconvert_exporter": "python",
   "pygments_lexer": "ipython3",
   "version": "3.8.1"
  }
 },
 "nbformat": 4,
 "nbformat_minor": 4
}
