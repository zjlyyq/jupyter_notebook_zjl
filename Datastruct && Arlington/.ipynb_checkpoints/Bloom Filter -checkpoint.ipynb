{
 "cells": [
  {
   "cell_type": "code",
   "execution_count": 11,
   "metadata": {},
   "outputs": [
    {
     "name": "stdout",
     "output_type": "stream",
     "text": [
      "Nope\n",
      "Probably\n"
     ]
    }
   ],
   "source": [
    "from bitarray import bitarray\n",
    "import mmh3\n",
    "\n",
    "class BloomFilter:\n",
    "    def __init__(self, size, hash_num):\n",
    "        self.size = size \n",
    "        self.hash_num = hash_num \n",
    "        self.bit_array = bitarray(size)\n",
    "        self.bit_array.setall(0)\n",
    "        \n",
    "    def add(self, s):\n",
    "        for seed in range(self.hash_num):\n",
    "            result = mmh3.hash(s, seed) % self.size\n",
    "            self.bit_array[result] = 1\n",
    "    \n",
    "    def lookup(self, s):\n",
    "        for seed in range(self.hash_num):\n",
    "            result = mmh3.hash(s, seed) % self.size\n",
    "            if self.bit_array[result] == 0:\n",
    "                return \"Nope\"\n",
    "        return \"Probably\"\n",
    "\n",
    "\n",
    "bloomfilter = BloomFilter(500000, 100)\n",
    "bloomfilter.add('zjl')\n",
    "print(bloomfilter.lookup('yyq'))\n",
    "print(bloomfilter.lookup('zjl'))"
   ]
  },
  {
   "cell_type": "markdown",
   "metadata": {},
   "source": [
    "### mmh3 的用法\n",
    "\n",
    "`mmh3.hash` 传入任意元素和一个种子后会获得一个输出值，且这个输出值是固定且随种子改变而改变的。具体见下面👇："
   ]
  },
  {
   "cell_type": "code",
   "execution_count": 8,
   "metadata": {},
   "outputs": [
    {
     "name": "stdout",
     "output_type": "stream",
     "text": [
      "1595247888\n",
      "-30259775\n",
      "52967936\n",
      "-625884984\n",
      "-1770855834\n",
      "910084659\n",
      "-1794263958\n",
      "-2052057222\n",
      "92897389\n",
      "1127467430\n",
      "----------------------\n",
      "-1536922894\n",
      "366320966\n",
      "857465756\n",
      "805824469\n",
      "63054037\n",
      "-1861716942\n",
      "26868421\n",
      "-528060674\n",
      "757465769\n",
      "-815053271\n"
     ]
    }
   ],
   "source": [
    "# mmh3 的用法\n",
    "import mmh3\n",
    "\n",
    "s = 'zjl'\n",
    "for seed in range(10):\n",
    "    print(mmh3.hash(s, seed))\n",
    "print('----------------------')\n",
    "s2 = 'yyq'\n",
    "for seed in range(10):\n",
    "    print(mmh3.hash(s2, seed))"
   ]
  }
 ],
 "metadata": {
  "kernelspec": {
   "display_name": "Python 3",
   "language": "python",
   "name": "python3"
  },
  "language_info": {
   "codemirror_mode": {
    "name": "ipython",
    "version": 3
   },
   "file_extension": ".py",
   "mimetype": "text/x-python",
   "name": "python",
   "nbconvert_exporter": "python",
   "pygments_lexer": "ipython3",
   "version": "3.8.1"
  }
 },
 "nbformat": 4,
 "nbformat_minor": 4
}
