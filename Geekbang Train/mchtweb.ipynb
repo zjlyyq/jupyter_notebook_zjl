{
 "cells": [
  {
   "cell_type": "code",
   "execution_count": 15,
   "metadata": {},
   "outputs": [
    {
     "name": "stdout",
     "output_type": "stream",
     "text": [
      "{\"respMsg\":\"请求报文转换异常 \",\"respCode\":\"9999\"}\n"
     ]
    }
   ],
   "source": [
    "import requests\n",
    "\n",
    "useragent = \"Mozilla/5.0 (Macintosh; Intel Mac OS X 10_15_5) AppleWebKit/537.36 (KHTML, like Gecko) Chrome/83.0.4103.116 Safari/537.36\"\n",
    "header = {\n",
    "    \"referer\": \"https://pay.zjtlcb.com/mchtweb/\",\n",
    "    'user-agent': useragent,\n",
    "    \"content-type\": \"application/x-www-form-urlencoded\",\n",
    "    'cookie': 'sensorsdata2015jssdkcross=%7B%22distinct_id%22%3A%2216d249a5a701aa-04f168ec1e8c0d-38637501-1296000-16d249a5a76249%22%2C%22%24device_id%22%3A%2216d249a5a701aa-04f168ec1e8c0d-38637501-1296000-16d249a5a76249%22%2C%22props%22%3A%7B%22%24latest_referrer%22%3A%22%22%2C%22%24latest_referrer_host%22%3A%22%22%2C%22%24latest_traffic_source_type%22%3A%22%E7%9B%B4%E6%8E%A5%E6%B5%81%E9%87%8F%22%2C%22%24latest_search_keyword%22%3A%22%E6%9C%AA%E5%8F%96%E5%88%B0%E5%80%BC_%E7%9B%B4%E6%8E%A5%E6%89%93%E5%BC%80%22%7D%7D'\n",
    "}\n",
    "data = {\n",
    "    \"phoneNo\":\"18072762795\",\n",
    "    \"userPwd\":\"WensTt5h3xavmWkM8tNESq1WN45RTXquxu/3x7FgDEc: \",\n",
    "    \"pwdType\":\"01\",\n",
    "    \"flag\":\"1.0.8\",\n",
    "    \"key\":\"nP2jTRFpTn4stR6PG/pH8oHpdU5zWdqZTUCk/Aux92dRGsiclV7diKqAWx41SH 6TUeMP1MqOMjE0/60qRty9nCKOpu2ISrehdXwrkem9bm6vpwDBwgXCGAzrpdS3cVNnv60p6CgeGYljSAexPgWs2U10EAIDqF8c0YrweJcfkQ=\",\n",
    "    \"reqSsn\":\"e3194f8011c545fc9e6e2a1922b81ece\",\n",
    "    \"reqDate\":\"2020078\",\n",
    "    \"reqTime\":\"83547\",\n",
    "    \"channel\":\"412\",\n",
    "    \"termType\":\"2\",\n",
    "    \"clientVersion\":\"1.0.8\",\n",
    "    \"termCode\":\"useri12135453431ufsf\",\n",
    "    \"uuid\":\"useri12135453431ufsf\",\n",
    "    \"sessionId\": \"2020070808505282082645421\"\n",
    "}\n",
    "url = \"http://dev.zjtlcb.com/ifsp-mchts/SOA/411.411174\"\n",
    "formdata = {\"startDate\":\"20200708\",\"endDate\":\"20200708\",\"mchtArray\":[\"8202003250041640\"],\"reqSsn\":\"fe73bd5c47b040e5b93d22ba4a5ba874\",\"reqDate\":\"2020078\",\"reqTime\":\"91640\",\"channel\":\"412\",\"mchtId\":\"8202003250041640\",\"userId\":\"5e7af98ef1bd6018dd14d679\",\"sessionId\":\"2020070809170433461926957\",\"termType\":\"2\",\"clientVersion\":\"1.0.8\",\"termCode\":\"useri12135453431ufsf\",\"uuid\":\"useri12135453431ufsf\"}\n",
    "res = requests.post(url, data=formdata, headers=header)\n",
    "print(res.text)"
   ]
  }
 ],
 "metadata": {
  "kernelspec": {
   "display_name": "Python 3",
   "language": "python",
   "name": "python3"
  },
  "language_info": {
   "codemirror_mode": {
    "name": "ipython",
    "version": 3
   },
   "file_extension": ".py",
   "mimetype": "text/x-python",
   "name": "python",
   "nbconvert_exporter": "python",
   "pygments_lexer": "ipython3",
   "version": "3.8.1"
  }
 },
 "nbformat": 4,
 "nbformat_minor": 4
}
