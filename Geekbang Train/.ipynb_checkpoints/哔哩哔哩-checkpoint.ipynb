{
 "cells": [
  {
   "cell_type": "code",
   "execution_count": 3,
   "metadata": {},
   "outputs": [
    {
     "name": "stdout",
     "output_type": "stream",
     "text": [
      "{\"code\":-101,\"message\":\"账号未登录\",\"ttl\":1}\n"
     ]
    }
   ],
   "source": [
    "import requests\n",
    "\n",
    "\n",
    "history_url = 'https://api.bilibili.com/x/web-interface/history/cursor?max=0&view_at=0&business='\n",
    "useragent = \"Mozilla/5.0 (Macintosh; Intel Mac OS X 10_15_5) AppleWebKit/537.36 (KHTML, like Gecko) Chrome/83.0.4103.116 Safari/537.36\"\n",
    "header = {\n",
    "    'user-agent': useragent,\n",
    "    # 虎扑从第11页开始就必须登录才能查看\n",
    "    # 从浏览器端登录后直接复制cookie，会过时，以后运行还得重新复制一遍。\n",
    "    'cookie': \"pgv_pvi=5625501696; pgv_si=s4005360640; uTZ=-480; LIVE_BUVID=120e3044790010ab6b2777c864aebeb5; LIVE_BUVID__ckMd5=a4d80d2382245eaa; _cnt_pm=0; _cnt_notify=18; im_notify_type_11257508=0; stardustvideo=1; CURRENT_FNVAL=16; rpdid=|(umRkk||)Yk0J'ulY|YRmRJm; stardustpgcv=0606; _uuid=7F84CF99-3DEC-4032-2977-7FE6BE61246258600infoc; INTVER=1; laboratory=1-1; buvid3=8EEDD32B-0B86-41F7-A715-86961D3C2044155839infoc; sid=lhebnk9q; CURRENT_QUALITY=116; DedeUserID=11257508; DedeUserID__ckMd5=110281e3eb3079bf; SESSDATA=3450230b%2C1604852896%2Cdc57e*51; bili_jct=1f495b39b6763445cc2c883b6c275b19; PVID=5; bp_video_offset_11257508=404059347705234709; bp_t_offset_11257508=404059347705234709; bfe_id=da609d6ad479671e4cd33f2670c43937\"\n",
    "}\n",
    "\n",
    "res = requests.get(history_url, headers=header)\n",
    "print(res.text)"
   ]
  }
 ],
 "metadata": {
  "kernelspec": {
   "display_name": "Python 3",
   "language": "python",
   "name": "python3"
  },
  "language_info": {
   "codemirror_mode": {
    "name": "ipython",
    "version": 3
   },
   "file_extension": ".py",
   "mimetype": "text/x-python",
   "name": "python",
   "nbconvert_exporter": "python",
   "pygments_lexer": "ipython3",
   "version": "3.8.1"
  }
 },
 "nbformat": 4,
 "nbformat_minor": 4
}
