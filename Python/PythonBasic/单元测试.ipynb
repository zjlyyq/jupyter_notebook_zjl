{
 "cells": [
  {
   "cell_type": "code",
   "execution_count": 3,
   "metadata": {},
   "outputs": [
    {
     "name": "stderr",
     "output_type": "stream",
     "text": [
      ".\n",
      "----------------------------------------------------------------------\n",
      "Ran 1 test in 0.004s\n",
      "\n",
      "OK\n"
     ]
    },
    {
     "data": {
      "text/plain": [
       "<unittest.main.TestProgram at 0x10c27e390>"
      ]
     },
     "execution_count": 3,
     "metadata": {},
     "output_type": "execute_result"
    }
   ],
   "source": [
    "import unittest\n",
    "\n",
    "# 二分查找\n",
    "def binary_search(arr, target):\n",
    "    l, r = 0, len(arr) - 1\n",
    "    ret = -1\n",
    "    while l <= r:\n",
    "        mid = (l+r) // 2\n",
    "        if arr[mid] > target:\n",
    "            r = mid\n",
    "        if arr[mid] < target:\n",
    "            l = mid\n",
    "        else:\n",
    "            ret = mid\n",
    "            break\n",
    "    return ret\n",
    "\n",
    "# 测试类\n",
    "class TestBinarySearchClass(unittest.TestCase):\n",
    "    \n",
    "    # 以test开头的函数将被测试\n",
    "    def test_search(self):\n",
    "        arr = [1,2,4,5,6,7,8,11]\n",
    "        target = 4\n",
    "        ret = binary_search(arr, target)\n",
    "        self.assertEqual(ret, 3)\n",
    "        \n",
    "# if __name__ == '__main__':\n",
    "#     print('test start...')\n",
    "#     ## 如果在Jupyter下，请用如下方式运行单元测试 \n",
    "#     unittest.main(argv=['first-arg-is-ignored'], exit=False) \n",
    "    \n",
    "#     ## 如果是命令行下运行，则： \n",
    "#     ## unittest.main()\n",
    "        \n",
    "# print('dsd')\n",
    "\n",
    "unittest.main(argv=['first-arg-is-ignored'], exit=False)"
   ]
  },
  {
   "cell_type": "code",
   "execution_count": 1,
   "metadata": {},
   "outputs": [
    {
     "name": "stdout",
     "output_type": "stream",
     "text": [
      "Hello\n"
     ]
    }
   ],
   "source": [
    "print('Hello')"
   ]
  }
 ],
 "metadata": {
  "kernelspec": {
   "display_name": "Python 3",
   "language": "python",
   "name": "python3"
  },
  "language_info": {
   "codemirror_mode": {
    "name": "ipython",
    "version": 3
   },
   "file_extension": ".py",
   "mimetype": "text/x-python",
   "name": "python",
   "nbconvert_exporter": "python",
   "pygments_lexer": "ipython3",
   "version": "3.6.0"
  }
 },
 "nbformat": 4,
 "nbformat_minor": 2
}
