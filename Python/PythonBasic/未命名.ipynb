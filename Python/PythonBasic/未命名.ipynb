{
 "cells": [
  {
   "cell_type": "code",
   "execution_count": 56,
   "metadata": {},
   "outputs": [
    {
     "data": {
      "text/plain": [
       "Namespace(f='tcp', ip='192.168.0.1-192.168.0.100', n=12, w='result.json')"
      ]
     },
     "execution_count": 56,
     "metadata": {},
     "output_type": "execute_result"
    }
   ],
   "source": [
    "import argparse\n",
    "import pretty_errors\n",
    "import pyping\n",
    "\n",
    "\n",
    "parser = argparse.ArgumentParser()\n",
    "parser.add_argument('-f', action=\"store\", default=\"tcp\", nargs=\"?\", choices=['ping', 'tcp'])\n",
    "parser.add_argument('-n', action=\"store\", type=int, default=\"4\", nargs=\"?\")\n",
    "parser.add_argument('-ip', action=\"store\", default=\"4\", nargs=\"?\")\n",
    "parser.add_argument('-w', action=\"store\", default=\"result.json\", nargs=\"?\")\n",
    "\n",
    "parser.parse_args('-n 12 -f tcp -ip 192.168.0.1-192.168.0.100'.split())"
   ]
  }
 ],
 "metadata": {
  "kernelspec": {
   "display_name": "Python 3",
   "language": "python",
   "name": "python3"
  },
  "language_info": {
   "codemirror_mode": {
    "name": "ipython",
    "version": 3
   },
   "file_extension": ".py",
   "mimetype": "text/x-python",
   "name": "python",
   "nbconvert_exporter": "python",
   "pygments_lexer": "ipython3",
   "version": "3.8.1"
  }
 },
 "nbformat": 4,
 "nbformat_minor": 4
}
