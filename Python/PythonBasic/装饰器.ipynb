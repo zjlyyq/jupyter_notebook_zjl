{
 "cells": [
  {
   "cell_type": "markdown",
   "metadata": {},
   "source": [
    "### 什么是装饰器\n",
    "装饰器其实是Python提供的一个语法糖。我们知道，函数其实本质上是一个对象，可以作为变量赋值给其他对象或者作为参数传给其他函数，然后在其他函数中被调用。"
   ]
  },
  {
   "cell_type": "code",
   "execution_count": 20,
   "metadata": {},
   "outputs": [
    {
     "name": "stdout",
     "output_type": "stream",
     "text": [
      "<function my_decorator.<locals>.wrapper at 0x10d039510>\n",
      "Help on function wrapper in module __main__:\n",
      "\n",
      "wrapper()\n",
      "\n",
      "None\n",
      "wrapper of decorator\n",
      "hello world\n"
     ]
    }
   ],
   "source": [
    "def my_decorator(func):\n",
    "    def wrapper():\n",
    "        print('wrapper of decorator')\n",
    "        func()\n",
    "    return wrapper\n",
    "\n",
    "def greet():\n",
    "    print('hello world')\n",
    "\n",
    "greet = my_decorator(greet)\n",
    "print(greet)\n",
    "print(help(greet))\n",
    "greet()\n",
    "\n"
   ]
  },
  {
   "cell_type": "markdown",
   "metadata": {},
   "source": [
    "语法糖版"
   ]
  },
  {
   "cell_type": "code",
   "execution_count": 5,
   "metadata": {},
   "outputs": [
    {
     "name": "stdout",
     "output_type": "stream",
     "text": [
      "wrapper of decorator\n",
      "hello world\n"
     ]
    }
   ],
   "source": [
    "def my_decorator(func):\n",
    "    def wrapper():\n",
    "        print('wrapper of decorator')\n",
    "        func()\n",
    "    return wrapper\n",
    "\n",
    "@my_decorator\n",
    "def greet():\n",
    "    print('hello world')\n",
    "\n",
    "greet()"
   ]
  },
  {
   "cell_type": "markdown",
   "metadata": {},
   "source": [
    "### 带参数的装饰器\n",
    "1. 装饰器主动返回带相同格式参数的函数即可。\n",
    "\n",
    "缺点：无法适配其他需要装饰的函数(带不同个数参数)"
   ]
  },
  {
   "cell_type": "code",
   "execution_count": 14,
   "metadata": {},
   "outputs": [
    {
     "name": "stdout",
     "output_type": "stream",
     "text": [
      "wrapper of decorator\n",
      "Hello World!!!\n"
     ]
    },
    {
     "ename": "TypeError",
     "evalue": "wrapper() takes 1 positional argument but 2 were given",
     "output_type": "error",
     "traceback": [
      "\u001b[0;31m---------------------------------------------------------------------------\u001b[0m",
      "\u001b[0;31mTypeError\u001b[0m                                 Traceback (most recent call last)",
      "\u001b[0;32m<ipython-input-14-d10aa302c4f8>\u001b[0m in \u001b[0;36m<module>\u001b[0;34m\u001b[0m\n\u001b[1;32m     14\u001b[0m \u001b[0;34m\u001b[0m\u001b[0m\n\u001b[1;32m     15\u001b[0m \u001b[0mgreet\u001b[0m\u001b[0;34m(\u001b[0m\u001b[0;34m'Hello World!!!'\u001b[0m\u001b[0;34m)\u001b[0m\u001b[0;34m\u001b[0m\u001b[0m\n\u001b[0;32m---> 16\u001b[0;31m \u001b[0mgreet2\u001b[0m\u001b[0;34m(\u001b[0m\u001b[0;34m'Hello World!!!'\u001b[0m\u001b[0;34m,\u001b[0m\u001b[0;34m'hahaha'\u001b[0m\u001b[0;34m)\u001b[0m\u001b[0;34m\u001b[0m\u001b[0m\n\u001b[0m",
      "\u001b[0;31mTypeError\u001b[0m: wrapper() takes 1 positional argument but 2 were given"
     ]
    }
   ],
   "source": [
    "def my_decorator(func):\n",
    "    def wrapper(message):\n",
    "        print('wrapper of decorator')\n",
    "        func(message)\n",
    "    return wrapper\n",
    "\n",
    "@my_decorator\n",
    "def greet(message):\n",
    "    print(message)\n",
    "    \n",
    "@my_decorator\n",
    "def greet2(message,info):\n",
    "    print(message+info)\n",
    "\n",
    "greet('Hello World!!!')\n",
    "greet2('Hello World!!!','hahaha')"
   ]
  },
  {
   "cell_type": "markdown",
   "metadata": {},
   "source": [
    "2. *args和**kwargs\n",
    "\n",
    "我们会把*args和**kwargs，作为装饰器内部函数 wrapper() 的参数。*args和**kwargs，表示接受任意数量和类型的参数"
   ]
  },
  {
   "cell_type": "code",
   "execution_count": 15,
   "metadata": {},
   "outputs": [
    {
     "name": "stdout",
     "output_type": "stream",
     "text": [
      "wrapper of decorator\n",
      "Hello World!!!\n",
      "wrapper of decorator\n",
      "Hello World,hahaha\n"
     ]
    }
   ],
   "source": [
    "def my_decorator(func):\n",
    "    def wrapper(*args, **kwargs):\n",
    "        print('wrapper of decorator')\n",
    "        func(*args, **kwargs)\n",
    "    return wrapper\n",
    "\n",
    "@my_decorator\n",
    "def greet(message):\n",
    "    print(message)\n",
    "    \n",
    "@my_decorator\n",
    "def greet2(message,info):\n",
    "    print(message+info)\n",
    "    \n",
    "greet('Hello World!!!')\n",
    "greet2('Hello World,','hahaha')"
   ]
  },
  {
   "cell_type": "markdown",
   "metadata": {},
   "source": [
    "### 带有自定义参数的装饰器\n",
    "有时候，还需要装饰器接受自己的参数，这时候，其实同样是利用函数的嵌套实现。外装饰器接受自定义参数，返回内装饰器。"
   ]
  },
  {
   "cell_type": "code",
   "execution_count": 21,
   "metadata": {},
   "outputs": [
    {
     "name": "stdout",
     "output_type": "stream",
     "text": [
      "wrapper of decorator\n",
      "Hello World!!\n",
      "wrapper of decorator\n",
      "Hello World!!\n",
      "wrapper of decorator\n",
      "Hello World!!\n",
      "wrapper of decorator\n",
      "Hello World!!\n"
     ]
    }
   ],
   "source": [
    "def repeat(num):\n",
    "    def my_decorator(func):\n",
    "        def wrapper(*args,**kwargs):\n",
    "            for i in range(num):\n",
    "                print('wrapper of decorator')\n",
    "                func(*args,**kwargs)\n",
    "        return wrapper\n",
    "    return my_decorator\n",
    "\n",
    "@repeat(4)\n",
    "def greeat(message):\n",
    "    print(message)\n",
    "\n",
    "    \n",
    "greeat('Hello World!!')"
   ]
  },
  {
   "cell_type": "markdown",
   "metadata": {},
   "source": [
    "### 保留被装饰函数原信息\n",
    "通常使用内置的装饰器`@functools.wrap`，它会帮助保留原函数的元信息（也就是将原函数的元信息，拷贝到对应的装饰器函数里）"
   ]
  },
  {
   "cell_type": "code",
   "execution_count": 28,
   "metadata": {},
   "outputs": [
    {
     "name": "stdout",
     "output_type": "stream",
     "text": [
      "Help on function greeat in module __main__:\n",
      "\n",
      "greeat(message)\n",
      "\n",
      "None\n",
      "wrapper of decorator\n",
      "Hello World!!\n",
      "wrapper of decorator\n",
      "Hello World!!\n",
      "wrapper of decorator\n",
      "Hello World!!\n",
      "wrapper of decorator\n",
      "Hello World!!\n"
     ]
    }
   ],
   "source": [
    "import functools\n",
    "\n",
    "def repeat(num):\n",
    "    def my_decorator(func):\n",
    "        @functools.wraps(func)\n",
    "        def wrapper(*args,**kwargs):\n",
    "            for i in range(num):\n",
    "                print('wrapper of decorator')\n",
    "                func(*args,**kwargs)\n",
    "        return wrapper\n",
    "    return my_decorator\n",
    "\n",
    "@repeat(4)\n",
    "def greeat(message):\n",
    "    print(message)\n",
    "\n",
    "print(help(greeat))\n",
    "greeat('Hello World!!')"
   ]
  },
  {
   "cell_type": "markdown",
   "metadata": {},
   "source": [
    "### 类装饰器\n",
    "类装饰器主要依赖于函数`__call__()`，每当你调用一个类的示例时，函数`__call__()`就会被执行一次。"
   ]
  },
  {
   "cell_type": "code",
   "execution_count": 2,
   "metadata": {},
   "outputs": [
    {
     "name": "stdout",
     "output_type": "stream",
     "text": [
      "num of calls is: 1\n",
      "hello world\n",
      "hello world!!\n"
     ]
    }
   ],
   "source": [
    "class Count: \n",
    "    def __init__(self, func): \n",
    "        self.func = func \n",
    "        self.num_calls = 0 \n",
    "    def __call__(self, *args, **kwargs): \n",
    "        self.num_calls += 1 \n",
    "        print('num of calls is: {}'.format(self.num_calls)) \n",
    "        return self.func(*args, **kwargs)\n",
    "    \n",
    "def greet(message):\n",
    "    print(message)\n",
    "\n",
    "count = Count(greet)\n",
    "# count.func('hello world')\n",
    "count('hello world')\n",
    "count.func('hello world!!')"
   ]
  },
  {
   "cell_type": "markdown",
   "metadata": {},
   "source": [
    "### 装饰器的嵌套"
   ]
  },
  {
   "cell_type": "markdown",
   "metadata": {},
   "source": [
    "### 装饰器的用途"
   ]
  }
 ],
 "metadata": {
  "kernelspec": {
   "display_name": "Python 3",
   "language": "python",
   "name": "python3"
  },
  "language_info": {
   "codemirror_mode": {
    "name": "ipython",
    "version": 3
   },
   "file_extension": ".py",
   "mimetype": "text/x-python",
   "name": "python",
   "nbconvert_exporter": "python",
   "pygments_lexer": "ipython3",
   "version": "3.6.0"
  }
 },
 "nbformat": 4,
 "nbformat_minor": 2
}
