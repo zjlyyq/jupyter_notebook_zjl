{
 "cells": [
  {
   "cell_type": "markdown",
   "metadata": {},
   "source": [
    "## 列表和元组\n",
    "### 区别\n",
    "1. 列表是动态的，长度不固定，可以增加、删减和改变元素\n",
    "2. 元组是静态的，长度固定，不可增删改"
   ]
  },
  {
   "cell_type": "code",
   "execution_count": 20,
   "metadata": {},
   "outputs": [
    {
     "name": "stdout",
     "output_type": "stream",
     "text": [
      "list = [1, 2]\n",
      "list = [1]\n",
      "2\n"
     ]
    }
   ],
   "source": [
    "list = []\n",
    "list.append(1)\n",
    "list.append(2)\n",
    "print('list = {}'.format(list))\n",
    "list.remove(2)\n",
    "print('list = {}'.format(list))\n",
    "tup = (1,2,3,4)\n",
    "print(tup[1])\n",
    "# tup[0] = 2 #TypeError: 'tuple' object does not support item assignment   "
   ]
  },
  {
   "cell_type": "markdown",
   "metadata": {},
   "source": [
    "元组是不可变的，要改变一个已存在的元组，只能重新开辟一块内存，创建新的元组。"
   ]
  },
  {
   "cell_type": "code",
   "execution_count": 22,
   "metadata": {},
   "outputs": [
    {
     "name": "stdout",
     "output_type": "stream",
     "text": [
      "(1, 2, 3, 4, 5)\n"
     ]
    }
   ],
   "source": [
    "new_tup = tup + (5,)\n",
    "print(new_tup)"
   ]
  },
  {
   "cell_type": "markdown",
   "metadata": {},
   "source": [
    "### 基本操作\n",
    "#### 负数索引"
   ]
  },
  {
   "cell_type": "code",
   "execution_count": 30,
   "metadata": {},
   "outputs": [
    {
     "name": "stdout",
     "output_type": "stream",
     "text": [
      "list = [0, 1, 2, 3, 4]\n",
      "list[-1] = 4\n",
      "tup[-1] = 4\n"
     ]
    }
   ],
   "source": [
    "list = [0,1,2,3,4]\n",
    "print('list = {}'.format(list))\n",
    "print('list[-1] = {}'.format(list[-1]))\n",
    "tup = (0,1,2,3,4)\n",
    "print('tup[-1] = {}'.format(tup[-1]))"
   ]
  },
  {
   "cell_type": "markdown",
   "metadata": {},
   "source": [
    "###### 切片操作"
   ]
  },
  {
   "cell_type": "code",
   "execution_count": 33,
   "metadata": {},
   "outputs": [
    {
     "name": "stdout",
     "output_type": "stream",
     "text": [
      "[2, 3]\n",
      "(2, 3)\n"
     ]
    }
   ],
   "source": [
    "\n",
    "l = [1, 2, 3, 4]\n",
    "print(l[1:3]) # 返回列表中索引从1到2的子列表\n",
    "\n",
    "\n",
    "tup = (1, 2, 3, 4)\n",
    "print(tup[1:3]) # 返回元组中索引从1到2的子元组"
   ]
  },
  {
   "cell_type": "markdown",
   "metadata": {},
   "source": [
    "#### 随意嵌套"
   ]
  },
  {
   "cell_type": "code",
   "execution_count": 34,
   "metadata": {},
   "outputs": [
    {
     "name": "stdout",
     "output_type": "stream",
     "text": [
      "[[1, 2, 3], [4, 5]]\n",
      "((1, 2, 3), (4, 5, 6))\n"
     ]
    }
   ],
   "source": [
    "l = [[1, 2, 3], [4, 5]] # 列表的每一个元素也是一个列表\n",
    "print(l)\n",
    "tup = ((1, 2, 3), (4, 5, 6)) # 元组的每一个元素也是一个元组\\\n",
    "print(tup)"
   ]
  },
  {
   "cell_type": "markdown",
   "metadata": {},
   "source": [
    "#### 内置函数\n",
    "list.reverse() 和 list.sort() 分别表示原地倒转列表和排序（注意，元组没有内置的这两个函数)。\n",
    "\n",
    "reversed() 和 sorted() 同样表示对列表 / 元组进行倒转和排序，但是会返回一个倒转后或者排好序的新的列表 / 元组。"
   ]
  },
  {
   "cell_type": "code",
   "execution_count": 2,
   "metadata": {},
   "outputs": [
    {
     "name": "stdout",
     "output_type": "stream",
     "text": [
      "2\n",
      "0\n",
      "[5, 4, 3, 1, 1]\n",
      "[1, 1, 3, 4, 5]\n",
      "<list_reverseiterator object at 0x10a58f390>\n"
     ]
    }
   ],
   "source": [
    "list = [1,1,3,4,5]\n",
    "print(list.count(1))\n",
    "print(list.index(1))\n",
    "list.reverse()\n",
    "# print(list.reverse())\n",
    "print(list)\n",
    "list.sort()\n",
    "print(list)\n",
    "print(reversed(list))"
   ]
  },
  {
   "cell_type": "markdown",
   "metadata": {},
   "source": [
    "### 存储方式的差异\n",
    "动态的列表和静态的元祖，存储方式必然是不同的，首先看下相同数据量的情况下，两者的存储差异"
   ]
  },
  {
   "cell_type": "code",
   "execution_count": 13,
   "metadata": {},
   "outputs": [
    {
     "name": "stdout",
     "output_type": "stream",
     "text": [
      "当元素葛个数通同为0时\n",
      "40\n",
      "24\n",
      "当元素葛个数通同为1时\n",
      "48\n",
      "28\n",
      "当元素葛个数通同为2时\n",
      "56\n",
      "40\n",
      "当元素葛个数通同为3时\n",
      "64\n",
      "48\n",
      "当元素葛个数通同为4时\n",
      "72\n",
      "56\n",
      "当元素葛个数通同为5时\n",
      "80\n",
      "64\n"
     ]
    }
   ],
   "source": [
    "list0 = []\n",
    "tup0 = ()\n",
    "print(\"当元素葛个数通同为0时\")\n",
    "print(list0.__sizeof__())\n",
    "print(tup0.__sizeof__())\n",
    "list1 = [1]\n",
    "tup1 = (1)\n",
    "print(\"当元素葛个数通同为1时\")\n",
    "print(list1.__sizeof__())\n",
    "print(tup1.__sizeof__())\n",
    "list2 = [1,2]\n",
    "tup2 = (1,2)\n",
    "print(\"当元素葛个数通同为2时\")\n",
    "print(list2.__sizeof__())\n",
    "print(tup2.__sizeof__())\n",
    "list3 = [1,2,3]\n",
    "tup3 = (1,2,3)\n",
    "print(\"当元素葛个数通同为3时\")\n",
    "print(list3.__sizeof__())\n",
    "print(tup3.__sizeof__())\n",
    "list4 = [1,2,3,4]\n",
    "tup4 = (1,2,3,4)\n",
    "print(\"当元素葛个数通同为4时\")\n",
    "print(list4.__sizeof__())\n",
    "print(tup4.__sizeof__())\n",
    "list5 = [1,2,3,4,5]\n",
    "tup5 = (1,2,3,4,5)\n",
    "print(\"当元素葛个数通同为5时\")\n",
    "print(list5.__sizeof__())\n",
    "print(tup5.__sizeof__())"
   ]
  },
  {
   "cell_type": "markdown",
   "metadata": {},
   "source": [
    "可以看出，防止了相同元素的列表，存储空间却要比元祖多,而且发现个奇特的规律，当元素个数为1是，列表比元祖多占用20个字节，元素个数大于1时，列表却只比元祖多占用16个字节。\n",
    "\n",
    "40->48->56->64 (以8递增)\n",
    "\n",
    "0-->+8->+8->+8\n",
    "\n",
    "24->28->40->48\n",
    "\n",
    "0-->+4->12->+8"
   ]
  },
  {
   "cell_type": "code",
   "execution_count": 25,
   "metadata": {},
   "outputs": [
    {
     "name": "stdout",
     "output_type": "stream",
     "text": [
      "40\n",
      "72\n",
      "72\n",
      "72\n",
      "72\n",
      "104\n"
     ]
    }
   ],
   "source": [
    "\n",
    "l = []\n",
    "print(l.__sizeof__())\n",
    "# 40\n",
    "l.append(1)\n",
    "print(l.__sizeof__()) \n",
    "# 72 # 加入了元素1之后，列表为其分配了可以存储4个元素的空间 (72 - 40)/8 = 4\n",
    "l.append(2) \n",
    "print(l.__sizeof__())\n",
    "# 72 # 由于之前分配了空间，所以加入元素2，列表空间不变\n",
    "l.append(3)\n",
    "print(l.__sizeof__()) \n",
    "# 72 # 同上\n",
    "l.append(4)\n",
    "print(l.__sizeof__()) \n",
    "# 72 # 同上\n",
    "l.append(5)\n",
    "print(l.__sizeof__())\n",
    "# 104 # 加入元素5之后，列表的空间不足，所以又额外分配了可以存储4个元素的空间"
   ]
  },
  {
   "cell_type": "markdown",
   "metadata": {},
   "source": [
    "### 性能差距\n",
    "通过学习列表和元组存储方式的差异，我们可以得出结论：元组要比列表更加轻量级一些，所以总体上来说，元组的性能速度要略优于列表。\n",
    "\n",
    "另外，Python 会在后台，对静态数据做一些资源缓存（resource caching）。通常来说，因为垃圾回收机制的存在，如果一些变量不被使用了，Python 就会回收它们所占用的内存，返还给操作系统，以便其他变量或其他应用使用。\n",
    "\n",
    "但是对于一些静态变量，比如元组，如果它不被使用并且占用空间不大时，Python 会暂时缓存这部分内存。这样，下次我们再创建同样大小的元组时，Python 就可以不用再向操作系统发出请求，去寻找内存，而是可以直接分配之前缓存的内存空间，这样就能大大加快程序的运行速度。\n",
    "\n",
    "下面的例子，是计算初始化一个相同元素的列表和元组分别所需的时间。我们可以看到，元组的初始化速度，要比列表快 5 倍。"
   ]
  },
  {
   "cell_type": "code",
   "execution_count": 28,
   "metadata": {},
   "outputs": [
    {
     "name": "stdout",
     "output_type": "stream",
     "text": [
      "100000000 loops, best of 3: 0.0162 usec per loop\n",
      "10000000 loops, best of 3: 0.0734 usec per loop\n"
     ]
    }
   ],
   "source": [
    "!python3 -m timeit 'x=(1,2,3,4,5,6)'\n",
    "!python3 -m timeit 'x=[1,2,3,4,5,6]'"
   ]
  },
  {
   "cell_type": "markdown",
   "metadata": {},
   "source": [
    "但如果是索引操作的话，两者的速度差别非常小，几乎可以忽略不计。"
   ]
  },
  {
   "cell_type": "code",
   "execution_count": 30,
   "metadata": {},
   "outputs": [
    {
     "name": "stdout",
     "output_type": "stream",
     "text": [
      "10000000 loops, best of 3: 0.0323 usec per loop\n",
      "10000000 loops, best of 3: 0.0322 usec per loop\n"
     ]
    }
   ],
   "source": [
    "!python3 -m timeit -s 'x=[1,2,3,4,5,6]' 'y=x[3]'\n",
    "!python3 -m timeit -s 'x=(1,2,3,4,5,6)' 'y=x[3]'"
   ]
  },
  {
   "cell_type": "markdown",
   "metadata": {},
   "source": [
    "### 思考题\n",
    "1. 想创建一个空的列表，我们可以用下面的 A、B 两种方式，请问它们在效率上有什么区别吗？我们应该优先考虑使用哪种呢？可以说说你的理由。\n",
    "\n",
    "```\n",
    "\n",
    "# 创建空列表\n",
    "# option A\n",
    "empty_list = list()\n",
    "\n",
    "# option B\n",
    "empty_list = []\n",
    "```"
   ]
  },
  {
   "cell_type": "code",
   "execution_count": 35,
   "metadata": {},
   "outputs": [
    {
     "name": "stdout",
     "output_type": "stream",
     "text": [
      "10000000 loops, best of 3: 0.124 usec per loop\n",
      "10000000 loops, best of 3: 0.0251 usec per loop\n"
     ]
    }
   ],
   "source": [
    "!python3 -m timeit  'empty_list = list()'\n",
    "!python3 -m timeit  'empty_list2 = []'"
   ]
  },
  {
   "cell_type": "markdown",
   "metadata": {},
   "source": [
    "区别主要在于list()是一个function call，Python的function call会创建stack，并且进行一系列参数检查的操作，比较expensive，反观[]是一个内置的C函数，可以直接被调用，因此效率高。"
   ]
  }
 ],
 "metadata": {
  "kernelspec": {
   "display_name": "Python 3",
   "language": "python",
   "name": "python3"
  },
  "language_info": {
   "codemirror_mode": {
    "name": "ipython",
    "version": 3
   },
   "file_extension": ".py",
   "mimetype": "text/x-python",
   "name": "python",
   "nbconvert_exporter": "python",
   "pygments_lexer": "ipython3",
   "version": "3.6.0"
  },
  "toc": {
   "base_numbering": 1,
   "nav_menu": {},
   "number_sections": false,
   "sideBar": true,
   "skip_h1_title": false,
   "title_cell": "Table of Contents",
   "title_sidebar": "Contents",
   "toc_cell": false,
   "toc_position": {},
   "toc_section_display": true,
   "toc_window_display": false
  }
 },
 "nbformat": 4,
 "nbformat_minor": 2
}
