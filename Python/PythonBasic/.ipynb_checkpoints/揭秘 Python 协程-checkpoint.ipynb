{
 "cells": [
  {
   "cell_type": "code",
   "execution_count": 38,
   "metadata": {
    "cell_style": "center"
   },
   "outputs": [
    {
     "ename": "SyntaxError",
     "evalue": "invalid syntax (<ipython-input-38-0bb5eaa84af3>, line 11)",
     "output_type": "error",
     "traceback": [
      "\u001b[0;36m  File \u001b[0;32m\"<ipython-input-38-0bb5eaa84af3>\"\u001b[0;36m, line \u001b[0;32m11\u001b[0m\n\u001b[0;31m    all_movies = soup.find('div',class='titlelink')\u001b[0m\n\u001b[0m                                     ^\u001b[0m\n\u001b[0;31mSyntaxError\u001b[0m\u001b[0;31m:\u001b[0m invalid syntax\n"
     ]
    }
   ],
   "source": [
    "import requests\n",
    "from bs4 import BeautifulSoup\n",
    "\n",
    "\n",
    "url = 'https://bbs.hupu.com/vote'\n",
    "res = requests.get(url)\n",
    "print(res)\n",
    "# print(res.text)\n",
    "soup = BeautifulSoup(res.content,'lxml')\n",
    "# print(soup)\n",
    "all_movies = soup.find('div',class='titlelink')\n",
    "print(all_movies)"
   ]
  }
 ],
 "metadata": {
  "kernelspec": {
   "display_name": "Python 3",
   "language": "python",
   "name": "python3"
  },
  "language_info": {
   "codemirror_mode": {
    "name": "ipython",
    "version": 3
   },
   "file_extension": ".py",
   "mimetype": "text/x-python",
   "name": "python",
   "nbconvert_exporter": "python",
   "pygments_lexer": "ipython3",
   "version": "3.6.0"
  }
 },
 "nbformat": 4,
 "nbformat_minor": 2
}
