{
 "cells": [
  {
   "cell_type": "code",
   "execution_count": 1,
   "metadata": {},
   "outputs": [
    {
     "name": "stdout",
     "output_type": "stream",
     "text": [
      "{\n",
      "    \"bid\": \"7193.45\",\n",
      "    \"ask\": \"7197.68\",\n",
      "    \"volume\": {\n",
      "        \"BTC\": \"726.9003627306\",\n",
      "        \"USD\": \"5297403.617203895315\",\n",
      "        \"timestamp\": 1577403000000\n",
      "    },\n",
      "    \"last\": \"7193.21\"\n",
      "}\n"
     ]
    },
    {
     "data": {
      "text/plain": [
       "{'bid': '8825.88',\n",
       " 'ask': '8827.52',\n",
       " 'volume': {'BTC': '910.0838782726',\n",
       "  'USD': '7972904.560901317851',\n",
       "  'timestamp': 1560643800000},\n",
       " 'last': '8838.45'}"
      ]
     },
     "execution_count": 1,
     "metadata": {},
     "output_type": "execute_result"
    }
   ],
   "source": [
    "\n",
    "########## GEMINI行情接口 ##########\n",
    "## https://api.gemini.com/v1/pubticker/:symbol\n",
    "\n",
    "import json\n",
    "import requests\n",
    "\n",
    "gemini_ticker = 'https://api.gemini.com/v1/pubticker/{}'\n",
    "symbol = 'btcusd'\n",
    "btc_data = requests.get(gemini_ticker.format(symbol)).json()\n",
    "print(json.dumps(btc_data, indent=4))\n",
    "\n",
    "########## 输出 ##########\n",
    "\n",
    "# {\n",
    "#    \"bid\": \"8825.88\",\n",
    "#    \"ask\": \"8827.52\",\n",
    "#    \"volume\": {\n",
    "#        \"BTC\": \"910.0838782726\",\n",
    "#        \"USD\": \"7972904.560901317851\",\n",
    "#        \"timestamp\": 1560643800000\n",
    "#    },\n",
    "#    \"last\": \"8838.45\"\n",
    "# }"
   ]
  }
 ],
 "metadata": {
  "kernelspec": {
   "display_name": "Python 3",
   "language": "python",
   "name": "python3"
  },
  "language_info": {
   "codemirror_mode": {
    "name": "ipython",
    "version": 3
   },
   "file_extension": ".py",
   "mimetype": "text/x-python",
   "name": "python",
   "nbconvert_exporter": "python",
   "pygments_lexer": "ipython3",
   "version": "3.6.0"
  }
 },
 "nbformat": 4,
 "nbformat_minor": 2
}
