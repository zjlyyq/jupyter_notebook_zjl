{
 "cells": [
  {
   "cell_type": "code",
   "execution_count": 29,
   "metadata": {},
   "outputs": [
    {
     "name": "stdout",
     "output_type": "stream",
     "text": [
      "!Monster\n",
      "ac: 16\n",
      "attacks:\n",
      "- BITE\n",
      "- HURT\n",
      "hp:\n",
      "- 3\n",
      "- 6\n",
      "name: Cave lizard\n",
      "\n"
     ]
    }
   ],
   "source": [
    "import yaml\n",
    "class Monster(yaml.YAMLObject):\n",
    "    yaml_tag = u'!Monster'\n",
    "    def __init__(self, name, hp, ac, attacks):\n",
    "        self.name = name\n",
    "        self.hp = hp\n",
    "        self.ac = ac\n",
    "        self.attacks = attacks\n",
    "    def __repr__(self):\n",
    "        return \"%s(name=%r, hp=%r, ac=%r, attacks=%r)\" % (\n",
    "           self.__class__.__name__, self.name, self.hp, self.ac,      \n",
    "           self.attacks)\n",
    "\n",
    "# yaml.load(\"\"\"\n",
    "# --- !Monster\n",
    "# name: Cave spider\n",
    "# hp: [2,6]    # 2d6\n",
    "# ac: 16\n",
    "# attacks: [BITE, HURT]\n",
    "# \"\"\")\n",
    "\n",
    "# print()\n",
    "Monster(name='Cave spider', hp=[2, 6], ac=16, attacks=['BITE', 'HURT'])\n",
    "\n",
    "print(yaml.dump(Monster(name='Cave lizard', hp=[3,6], ac=16, attacks=['BITE','HURT'])))\n",
    "\n"
   ]
  },
  {
   "cell_type": "markdown",
   "metadata": {},
   "source": [
    "### Python 底层语言设计层面是如何实现 metaclass 的？"
   ]
  },
  {
   "cell_type": "markdown",
   "metadata": {},
   "source": [
    "#### 第一，所有的 Python 的用户定义类，都是 type 这个类的实例。\n",
    "事实上，类本身不过是一个名为 type 类的实例。在 Python 的类型世界里，type 这个类就是造物的上帝。这可以在代码中验证："
   ]
  },
  {
   "cell_type": "code",
   "execution_count": 21,
   "metadata": {},
   "outputs": [
    {
     "name": "stdout",
     "output_type": "stream",
     "text": [
      "<class '__main__.MyClass'>\n",
      "<class 'type'>\n"
     ]
    }
   ],
   "source": [
    "# Python 3和Python 2类似\n",
    "class MyClass:\n",
    "    pass\n",
    "\n",
    "instance = MyClass()\n",
    "\n",
    "print(type(instance))\n",
    "\n",
    "print(type(MyClass))\n"
   ]
  },
  {
   "cell_type": "markdown",
   "metadata": {},
   "source": [
    "#### 第二，用户自定义类，只不过是 type 类的`__call__`运算符重载\n",
    "当我们定义一个类的语句结束时，真正发生的情况，是 Python 调用 type 的`__call__`运算符。\n",
    "\n",
    "当你定义一个类时，写成下面这样时：\n",
    "```\n",
    "class MyClass: \n",
    "    data = 1\n",
    "```\n",
    "\n",
    "实际上执行的是：\n",
    "```\n",
    "class = type(classname, superclasses, attributedict)\n",
    "```\n",
    "等号右边的type(classname, superclasses, attributedict)，就是 type 的`__call__`运算符重载，它会进一步调用：\n",
    "```\n",
    "type.__new__(typeclass, classname, superclasses, attributedict)\n",
    "type.__init__(class, classname, superclasses, attributedict)\n",
    "```\n"
   ]
  },
  {
   "cell_type": "code",
   "execution_count": 27,
   "metadata": {},
   "outputs": [
    {
     "name": "stdout",
     "output_type": "stream",
     "text": [
      "<class '__main__.MyClass'>\n"
     ]
    },
    {
     "data": {
      "text/plain": [
       "1"
      ]
     },
     "execution_count": 27,
     "metadata": {},
     "output_type": "execute_result"
    }
   ],
   "source": [
    "MyClass = type('MyClass',(),{'data': 1})\n",
    "\n",
    "instance = MyClass()\n",
    "\n",
    "print(type(instance))\n",
    "instance.data"
   ]
  },
  {
   "cell_type": "markdown",
   "metadata": {},
   "source": [
    "#### 第三，metaclass 是 type 的子类，通过替换 type 的`__call__`运算符重载机制，“超越变形”正常的类。\n",
    "理解了以上几点，我们就会明白，正是 Python 的类创建机制，给了 metaclass 大展身手的机会。\n",
    "一旦你把一个类型 MyClass 的 metaclass 设置成 MyMeta，MyClass 就不再由原生的 type 创建，而是会调用 MyMeta 的`__call__`运算符重载。"
   ]
  },
  {
   "cell_type": "code",
   "execution_count": 48,
   "metadata": {},
   "outputs": [
    {
     "name": "stdout",
     "output_type": "stream",
     "text": [
      "MyMeta __new__ is called\n",
      "metaclass 是 type 的子类，通过替换 type 的__call__运算符重载机制，“超越变形”正常的类。\n",
      "<class '__main__.MyClass'>\n"
     ]
    }
   ],
   "source": [
    "class MyMeta(type):\n",
    "    def __init__(cls, name, bases, kwds):\n",
    "        super().__init__(name, bases, kwds)\n",
    "    def __new__(cls, name, bases, kwds):\n",
    "        print('MyMeta __new__ is called')\n",
    "        return type.__new__(cls,name, bases, kwds)\n",
    "    \n",
    "#     def __call__(name, bases, kwds):\n",
    "#         print('MyMeta __call__ is called')\n",
    "#         return cls.__new__(cls,name, bases, kwds)\n",
    "\n",
    "class MyClass(metaclass=MyMeta):\n",
    "    def __init__(self):\n",
    "        print('metaclass 是 type 的子类，通过替换 type 的__call__运算符重载机制，“超越变形”正常的类。')\n",
    "    \n",
    "\n",
    "instance = MyClass()\n",
    "print(type(instance))"
   ]
  }
 ],
 "metadata": {
  "kernelspec": {
   "display_name": "Python 3",
   "language": "python",
   "name": "python3"
  },
  "language_info": {
   "codemirror_mode": {
    "name": "ipython",
    "version": 3
   },
   "file_extension": ".py",
   "mimetype": "text/x-python",
   "name": "python",
   "nbconvert_exporter": "python",
   "pygments_lexer": "ipython3",
   "version": "3.6.0"
  }
 },
 "nbformat": 4,
 "nbformat_minor": 2
}
