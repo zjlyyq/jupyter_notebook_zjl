{
 "cells": [
  {
   "cell_type": "markdown",
   "metadata": {},
   "source": [
    "首先看一下下面这个类："
   ]
  },
  {
   "cell_type": "code",
   "execution_count": 15,
   "metadata": {},
   "outputs": [
    {
     "name": "stdout",
     "output_type": "stream",
     "text": [
      "init function called\n",
      "name:1.py,size:1024\n",
      "name:1.py,size:1124\n",
      "1.py\n"
     ]
    }
   ],
   "source": [
    "class Document:\n",
    "    def __init__(self,name,size):\n",
    "        print('init function called')\n",
    "        self.name = name\n",
    "        self.__size = size\n",
    "    def printInfo(self):\n",
    "        print('name:{},size:{}'.format(self.name,self.__size))\n",
    "    \n",
    "    def changeSize(self,size):\n",
    "        self.__size += size\n",
    "        \n",
    "d = Document('1.py',1024)\n",
    "d.printInfo()\n",
    "d.changeSize(100)\n",
    "d.printInfo()\n",
    "print(d.name)\n",
    "# print(d.__size)"
   ]
  },
  {
   "cell_type": "markdown",
   "metadata": {},
   "source": [
    "首先从上面这个类的可以看出几个基本要素：\n",
    "1. 属性\n",
    "2. 方法\n",
    "3. 构造函数 __init__\n",
    "\n",
    "那么完善的类还应该包括：静态属性（每个对象都可以方便访问这些常量而不用重新构造？）\n"
   ]
  },
  {
   "cell_type": "markdown",
   "metadata": {},
   "source": [
    "#### 静态属性、成员函数、类函数、静态函数"
   ]
  },
  {
   "cell_type": "code",
   "execution_count": 6,
   "metadata": {},
   "outputs": [
    {
     "name": "stdout",
     "output_type": "stream",
     "text": [
      "init function called\n",
      "Welcome to read 1.py.\n",
      "Welcome to read 1.py.\n"
     ]
    }
   ],
   "source": [
    "class Document:\n",
    "    WELCOME_STR = 'Welcome to read {}.'\n",
    "    def __init__(self,name,size):\n",
    "        print('init function called')\n",
    "        self.name = name\n",
    "        self.__size = size\n",
    "    def printInfo(self):\n",
    "        print('name:{},size:{}'.format(self.name,self.__size))\n",
    "    \n",
    "    def changeSize(self,size):\n",
    "        self.__size += size\n",
    "        \n",
    "    def introduction(self):\n",
    "        print(self.WELCOME_STR.format(self.name))\n",
    "    \n",
    "    @classmethod\n",
    "    def create_empty_book(cls,title, author):\n",
    "        return cls(title,author,context=\"nothing\")\n",
    "    #静态函数    \n",
    "    @staticmethod\n",
    "    def get_welcome(context):\n",
    "        return Document.WELCOME_STR.format(context)\n",
    "    \n",
    "d = Document('1.py',1024)\n",
    "d.introduction()\n",
    "print(Document.get_welcome('1.py'))"
   ]
  },
  {
   "cell_type": "markdown",
   "metadata": {},
   "source": [
    "### 类的继承"
   ]
  },
  {
   "cell_type": "code",
   "execution_count": 32,
   "metadata": {},
   "outputs": [
    {
     "name": "stdout",
     "output_type": "stream",
     "text": [
      "init function called\n",
      "7\n",
      "Welcome! The context for this book is indeed nothing.\n"
     ]
    }
   ],
   "source": [
    "\n",
    "class Document():\n",
    "    \n",
    "    WELCOME_STR = 'Welcome! The context for this book is {}.'\n",
    "    \n",
    "    def __init__(self, title, author, context):\n",
    "        print('init function called')\n",
    "        self.title = title\n",
    "        self.author = author\n",
    "        self.__context = context\n",
    "    \n",
    "    # 类函数\n",
    "    @classmethod\n",
    "    def create_empty_book(cls, title, author):\n",
    "        return cls(title=title, author=author, context='nothing')\n",
    "    \n",
    "    # 成员函数\n",
    "    def get_context_length(self):\n",
    "        return len(self.__context)\n",
    "    \n",
    "    # 静态函数\n",
    "    @staticmethod\n",
    "    def get_welcome(context):\n",
    "        return Document.WELCOME_STR.format(context)\n",
    "\n",
    "\n",
    "empty_book = Document.create_empty_book('What Every Man Thinks About Apart from Sex', 'Professor Sheridan Simove')\n",
    "\n",
    "\n",
    "print(empty_book.get_context_length())\n",
    "print(empty_book.get_welcome('indeed nothing'))\n",
    "\n"
   ]
  },
  {
   "cell_type": "code",
   "execution_count": 1,
   "metadata": {},
   "outputs": [
    {
     "name": "stdout",
     "output_type": "stream",
     "text": [
      "1932e3265020c0cc8cab03b9aef86ca3\n",
      "7\n"
     ]
    }
   ],
   "source": [
    "import hashlib\n",
    "print(hashlib.md5('zjz_021029\\\\'.encode('utf-8')).hexdigest())\n",
    "# print('\\2')\n",
    "# 5020c0cc8cab03b9\n",
    "# 1932e3265020c0cc\n",
    "# 8cab03b9aef86ca3\n",
    "# z\\' -> b3117136921a56b346e406acba6d16d9\n",
    "# print('z\\'')\n",
    "\n",
    "ss = '123456\\\\'\n",
    "print(len(ss))\n",
    "s = ss[0:len(ss)]"
   ]
  },
  {
   "cell_type": "code",
   "execution_count": 8,
   "metadata": {},
   "outputs": [
    {
     "name": "stdout",
     "output_type": "stream",
     "text": [
      "Document class init called\n",
      "parent class init called\n",
      "Video class init called\n",
      "parent class init called\n",
      "document\n",
      "video\n",
      "Harry Potter(Book)\n",
      "Harry Potter(Movie)\n",
      "77\n",
      "120\n"
     ]
    }
   ],
   "source": [
    "\n",
    "class Entity():\n",
    "    def __init__(self, object_type):\n",
    "        print('parent class init called')\n",
    "        self.object_type = object_type\n",
    "    \n",
    "    def get_context_length(self):\n",
    "        raise Exception('get_context_length not implemented')\n",
    "    \n",
    "    def print_title(self):\n",
    "        print(self.title)\n",
    "\n",
    "class Document(Entity):\n",
    "    def __init__(self, title, author, context):\n",
    "        print('Document class init called')\n",
    "        Entity.__init__(self, 'document')\n",
    "        self.title = title\n",
    "        self.author = author\n",
    "        self.__context = context\n",
    "    \n",
    "    def get_context_length(self):\n",
    "        return len(self.__context)\n",
    "    \n",
    "class Video(Entity):\n",
    "    def __init__(self, title, author, video_length):\n",
    "        print('Video class init called')\n",
    "        Entity.__init__(self, 'video')\n",
    "        self.title = title\n",
    "        self.author = author\n",
    "        self.__video_length = video_length\n",
    "    \n",
    "    def get_context_length(self):\n",
    "        return self.__video_length\n",
    "\n",
    "harry_potter_book = Document('Harry Potter(Book)', 'J. K. Rowling', '... Forever Do not believe any thing is capable of thinking independently ...')\n",
    "harry_potter_movie = Video('Harry Potter(Movie)', 'J. K. Rowling', 120)\n",
    "\n",
    "print(harry_potter_book.object_type)\n",
    "print(harry_potter_movie.object_type)\n",
    "\n",
    "harry_potter_book.print_title()\n",
    "harry_potter_movie.print_title()\n",
    "\n",
    "print(harry_potter_book.get_context_length())\n",
    "print(harry_potter_movie.get_context_length())\n",
    "\n"
   ]
  },
  {
   "cell_type": "markdown",
   "metadata": {},
   "source": [
    "### 抽象函数和抽象类\n",
    "抽象类是一种特殊的类，它生下来就是作为父类存在的，一旦对象化就会报错。同样，抽象函数定义在抽象类之中，子类必须重写该函数才能使用。"
   ]
  },
  {
   "cell_type": "code",
   "execution_count": 11,
   "metadata": {},
   "outputs": [
    {
     "name": "stdout",
     "output_type": "stream",
     "text": [
      "Harry Potter\n"
     ]
    },
    {
     "ename": "TypeError",
     "evalue": "Can't instantiate abstract class Entity with abstract methods get_title, set_title",
     "output_type": "error",
     "traceback": [
      "\u001b[0;31m---------------------------------------------------------------------------\u001b[0m",
      "\u001b[0;31mTypeError\u001b[0m                                 Traceback (most recent call last)",
      "\u001b[0;32m<ipython-input-11-ffcd0ed9f69f>\u001b[0m in \u001b[0;36m<module>\u001b[0;34m\u001b[0m\n\u001b[1;32m     21\u001b[0m \u001b[0mprint\u001b[0m\u001b[0;34m(\u001b[0m\u001b[0mdocument\u001b[0m\u001b[0;34m.\u001b[0m\u001b[0mget_title\u001b[0m\u001b[0;34m(\u001b[0m\u001b[0;34m)\u001b[0m\u001b[0;34m)\u001b[0m\u001b[0;34m\u001b[0m\u001b[0m\n\u001b[1;32m     22\u001b[0m \u001b[0;34m\u001b[0m\u001b[0m\n\u001b[0;32m---> 23\u001b[0;31m \u001b[0mentity\u001b[0m \u001b[0;34m=\u001b[0m \u001b[0mEntity\u001b[0m\u001b[0;34m(\u001b[0m\u001b[0;34m)\u001b[0m\u001b[0;34m\u001b[0m\u001b[0m\n\u001b[0m",
      "\u001b[0;31mTypeError\u001b[0m: Can't instantiate abstract class Entity with abstract methods get_title, set_title"
     ]
    }
   ],
   "source": [
    "\n",
    "from abc import ABCMeta, abstractmethod\n",
    "\n",
    "class Entity(metaclass=ABCMeta):\n",
    "    @abstractmethod\n",
    "    def get_title(self):\n",
    "        pass\n",
    "\n",
    "    @abstractmethod\n",
    "    def set_title(self, title):\n",
    "        pass\n",
    "\n",
    "class Document(Entity):\n",
    "    def get_title(self):\n",
    "        return self.title\n",
    "    \n",
    "    def set_title(self, title):\n",
    "        self.title = title\n",
    "\n",
    "document = Document()\n",
    "document.set_title('Harry Potter')\n",
    "print(document.get_title())\n",
    "\n",
    "entity = Entity()\n"
   ]
  },
  {
   "cell_type": "markdown",
   "metadata": {},
   "source": [
    "### 多重继承\n",
    "菱形继承:\n",
    "左边的方式表明了菱形继承潜在的问题：一个基类的初始化函数可能被调用两次"
   ]
  },
  {
   "cell_type": "code",
   "execution_count": 2,
   "metadata": {
    "cell_style": "split"
   },
   "outputs": [
    {
     "name": "stdout",
     "output_type": "stream",
     "text": [
      "D is inited\n",
      "Enter D\n",
      "B is inited\n",
      "Enter B\n",
      "A is inited\n",
      "Enter A\n",
      "Leave A\n",
      "Leave B\n",
      "C is inited\n",
      "Enter C\n",
      "A is inited\n",
      "Enter A\n",
      "Leave A\n",
      "Leave C\n",
      "Leave D\n"
     ]
    }
   ],
   "source": [
    "class A:\n",
    "    def __init__(self):\n",
    "        print('A is inited')\n",
    "        print('Enter A')\n",
    "        print('Leave A')\n",
    "\n",
    "class B(A):\n",
    "    def __init__(self):\n",
    "        print('B is inited')\n",
    "        print('Enter B')\n",
    "        A.__init__(self)\n",
    "        print('Leave B')\n",
    "        \n",
    "class C(A):\n",
    "    def __init__(self):\n",
    "        print('C is inited')\n",
    "        print('Enter C')\n",
    "        A.__init__(self)\n",
    "        print('Leave C')\n",
    "        \n",
    "class D(B,C):\n",
    "    def __init__(self):\n",
    "        print('D is inited')\n",
    "        print('Enter D')\n",
    "        B.__init__(self)\n",
    "        C.__init__(self)\n",
    "        print('Leave D')\n",
    "        \n",
    "# b = B()\n",
    "# c = C()\n",
    "d = D()"
   ]
  },
  {
   "cell_type": "code",
   "execution_count": 7,
   "metadata": {
    "cell_style": "split"
   },
   "outputs": [
    {
     "name": "stdout",
     "output_type": "stream",
     "text": [
      "D is inited\n",
      "Enter D\n",
      "B is inited\n",
      "Enter B\n",
      "C is inited\n",
      "Enter C\n",
      "A is inited\n",
      "Enter A\n",
      "Leave A\n",
      "Leave C\n",
      "Leave B\n",
      "Leave D\n"
     ]
    }
   ],
   "source": [
    "class A:\n",
    "    def __init__(self):\n",
    "        print('A is inited')\n",
    "        print('Enter A')\n",
    "        print('Leave A')\n",
    "\n",
    "class B(A):\n",
    "    def __init__(self):\n",
    "        print('B is inited')\n",
    "        print('Enter B')\n",
    "#         A.__init__(self)\n",
    "        super().__init__()\n",
    "        print('Leave B')\n",
    "        \n",
    "class C(A):\n",
    "    def __init__(self):\n",
    "        print('C is inited')\n",
    "        print('Enter C')\n",
    "#         A.__init__(self)\n",
    "        super().__init__()\n",
    "        print('Leave C')\n",
    "        \n",
    "class D(B,C):\n",
    "    def __init__(self):\n",
    "        print('D is inited')\n",
    "        print('Enter D')\n",
    "#         B.__init__(self)\n",
    "        super().__init__()\n",
    "        print('Leave D')\n",
    "        \n",
    "# b = B()\n",
    "# c = C()\n",
    "d = D()"
   ]
  },
  {
   "cell_type": "markdown",
   "metadata": {},
   "source": [
    "正确的做法应该是使用 super 来召唤父类的构造函数，而且 python 使用一种叫做方法解析顺序的算法（具体实现算法叫做 C3），来保证一个类只会被初始化一次。"
   ]
  },
  {
   "cell_type": "markdown",
   "metadata": {},
   "source": [
    "### `__call__`的继承"
   ]
  },
  {
   "cell_type": "code",
   "execution_count": 10,
   "metadata": {},
   "outputs": [
    {
     "name": "stdout",
     "output_type": "stream",
     "text": [
      "B is inited\n",
      "Enter B\n",
      "A is inited\n",
      "Enter A\n",
      "Leave A\n",
      "Leave B\n",
      "A __call__ is called\n"
     ]
    }
   ],
   "source": [
    "class A:\n",
    "    def __init__(self):\n",
    "        print('A is inited')\n",
    "        print('Enter A')\n",
    "        print('Leave A')\n",
    "    \n",
    "    def __call__(self):\n",
    "        print('A __call__ is called')\n",
    "\n",
    "class B(A):\n",
    "    def __init__(self):\n",
    "        print('B is inited')\n",
    "        print('Enter B')\n",
    "#         A.__init__(self)\n",
    "        super().__init__()\n",
    "        print('Leave B')\n",
    "\n",
    "        \n",
    "b = B()\n",
    "b()"
   ]
  }
 ],
 "metadata": {
  "kernelspec": {
   "display_name": "Python 3",
   "language": "python",
   "name": "python3"
  },
  "language_info": {
   "codemirror_mode": {
    "name": "ipython",
    "version": 3
   },
   "file_extension": ".py",
   "mimetype": "text/x-python",
   "name": "python",
   "nbconvert_exporter": "python",
   "pygments_lexer": "ipython3",
   "version": "3.6.0"
  }
 },
 "nbformat": 4,
 "nbformat_minor": 2
}
