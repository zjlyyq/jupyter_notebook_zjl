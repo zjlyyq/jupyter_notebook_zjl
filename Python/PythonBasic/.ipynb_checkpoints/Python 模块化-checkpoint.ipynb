{
 "cells": [
  {
   "cell_type": "markdown",
   "metadata": {},
   "source": [
    "### 简单模块化\n",
    "最简单的模块化方式，就是把函数、类、常量拆分到不同的文件，把它们放在同一个文件夹，然后使用from your_file import function_name, class_name的方式调用。"
   ]
  },
  {
   "cell_type": "code",
   "execution_count": 6,
   "metadata": {},
   "outputs": [
    {
     "data": {
      "text/plain": [
       "'olleh'"
      ]
     },
     "execution_count": 6,
     "metadata": {},
     "output_type": "execute_result"
    }
   ],
   "source": [
    "# class_utils.py\n",
    "\n",
    "class Encoder(object):\n",
    "    def encode(self, s):\n",
    "        return s[::-1]\n",
    "\n",
    "class Decoder(object):\n",
    "    def decode(self, s):\n",
    "        return ''.join(reversed(list(s)))\n",
    "\n",
    "encoder = Encoder()\n",
    "encoder.encode('hw')\n",
    "encoder.encode('hello')"
   ]
  },
  {
   "cell_type": "markdown",
   "metadata": {},
   "source": [
    "所有文件都堆在一个文件夹下也并不是办法。"
   ]
  },
  {
   "cell_type": "markdown",
   "metadata": {},
   "source": [
    "```\n",
    ".\n",
    "├── utils\n",
    "│   ├── utils.py\n",
    "│   └── class_utils.py\n",
    "├── src\n",
    "│   └── sub_main.py\n",
    "└── main.py\n",
    "```\n",
    "\n",
    "main.py 调用子目录的模块时，只需要使用 . 代替 /  来表示子目录，utils.utils 表示 utils 子文件夹下的 utils.py 模块就行。\n",
    "那如果我们想调用上层目录呢？注意，`sys.path.append(\"..\")` 表示将当前程序所在位置向上提了一级，之后就能调用 utils 的模块了。"
   ]
  },
  {
   "cell_type": "markdown",
   "metadata": {},
   "source": [
    "### 项目模块化\n",
    "项目中模块引用的最好方式是相对的绝对路径：从项目的根目录开始追溯。\n",
    "Python 解释器在遇到 import 的时候，它会在一个特定的列表中寻找模块。这个列表就是`sys.path`。pycharm会自动将当前工程的绝对路径添加到`sys.path`列表中。"
   ]
  },
  {
   "cell_type": "code",
   "execution_count": 10,
   "metadata": {},
   "outputs": [
    {
     "name": "stdout",
     "output_type": "stream",
     "text": [
      "/Library/Frameworks/Python.framework/Versions/3.6/lib/python36.zip\n",
      "/Library/Frameworks/Python.framework/Versions/3.6/lib/python3.6\n",
      "/Library/Frameworks/Python.framework/Versions/3.6/lib/python3.6/lib-dynload\n",
      "\n",
      "/Users/jialuzhang/Library/Python/3.6/lib/python/site-packages\n",
      "/Library/Frameworks/Python.framework/Versions/3.6/lib/python3.6/site-packages\n",
      "/Library/Frameworks/Python.framework/Versions/3.6/lib/python3.6/site-packages/IPython/extensions\n",
      "/Users/jialuzhang/.ipython\n",
      "..\n"
     ]
    }
   ],
   "source": [
    "import sys\n",
    "# print(sys.path)\n",
    "for singlePath in sys.path:\n",
    "    print(singlePath)"
   ]
  }
 ],
 "metadata": {
  "kernelspec": {
   "display_name": "Python 3",
   "language": "python",
   "name": "python3"
  },
  "language_info": {
   "codemirror_mode": {
    "name": "ipython",
    "version": 3
   },
   "file_extension": ".py",
   "mimetype": "text/x-python",
   "name": "python",
   "nbconvert_exporter": "python",
   "pygments_lexer": "ipython3",
   "version": "3.6.0"
  }
 },
 "nbformat": 4,
 "nbformat_minor": 2
}
