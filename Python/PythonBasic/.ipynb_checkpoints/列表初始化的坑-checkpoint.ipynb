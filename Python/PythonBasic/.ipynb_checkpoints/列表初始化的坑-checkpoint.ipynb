{
 "cells": [
  {
   "cell_type": "code",
   "execution_count": 13,
   "metadata": {},
   "outputs": [
    {
     "name": "stdout",
     "output_type": "stream",
     "text": [
      "[[0, 0], [0, 0]]\n",
      "[[0, 2], [0, 2]]\n",
      "----- 分割线 -----\n",
      "[[0, 0], [0, 0]]\n",
      "[[0, 0], [0, 2]]\n"
     ]
    }
   ],
   "source": [
    "dp1 = [[0] * 2] * 2\n",
    "print(dp1)\n",
    "dp1[1][1] = 2\n",
    "print(dp1)\n",
    "print(\"----- 分割线 -----\")\n",
    "dp2 = [[0] * 2 for i in range(2)]\n",
    "print(dp2)\n",
    "dp2[1][1] = 2\n",
    "print(dp2)"
   ]
  },
  {
   "cell_type": "markdown",
   "metadata": {},
   "source": [
    "看下一下上面例子中错误的初始化代码：\n",
    "```python\n",
    "dp1 = [[0] * 2] * 2\n",
    "print(dp1)\n",
    "dp1[1][1] = 2\n",
    "print(dp1)\n",
    "```\n",
    "> 第一种的二维数组初始化，[[0, 0],[0, 0]],两个数组间是浅拷贝的关系，所以会出现看似只修改了一个元素，但两个数组都变化了的现象。\n",
    "\n",
    "因此, 二维数组初始化一定要这样写：\n",
    "```python\n",
    "dp2 = [[0] * 2 for i in range(2)]\n",
    "print(dp2)\n",
    "dp2[1][1] = 2\n",
    "print(dp2)\n",
    "```"
   ]
  }
 ],
 "metadata": {
  "kernelspec": {
   "display_name": "Python 3",
   "language": "python",
   "name": "python3"
  },
  "language_info": {
   "codemirror_mode": {
    "name": "ipython",
    "version": 3
   },
   "file_extension": ".py",
   "mimetype": "text/x-python",
   "name": "python",
   "nbconvert_exporter": "python",
   "pygments_lexer": "ipython3",
   "version": "3.6.0"
  }
 },
 "nbformat": 4,
 "nbformat_minor": 2
}
