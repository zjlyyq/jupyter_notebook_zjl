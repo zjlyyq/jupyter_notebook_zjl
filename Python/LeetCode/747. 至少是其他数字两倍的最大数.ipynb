{
 "cells": [
  {
   "cell_type": "markdown",
   "metadata": {},
   "source": [
    "### 题目描述"
   ]
  },
  {
   "cell_type": "code",
   "execution_count": 9,
   "metadata": {
    "scrolled": true
   },
   "outputs": [
    {
     "data": {
      "text/html": [
       "\n",
       "        <iframe\n",
       "            width=\"1000\"\n",
       "            height=\"600\"\n",
       "            src=\"http://121.199.20.52/the_static/PDFs/747.Largest Number At Least Twice of Others.pdf\"\n",
       "            frameborder=\"0\"\n",
       "            allowfullscreen\n",
       "        ></iframe>\n",
       "        "
      ],
      "text/plain": [
       "<IPython.lib.display.IFrame at 0x74ab2d0>"
      ]
     },
     "execution_count": 9,
     "metadata": {},
     "output_type": "execute_result"
    }
   ],
   "source": [
    "from IPython.display import IFrame\n",
    "IFrame('http://121.199.20.52/the_static/PDFs/747.Largest Number At Least Twice of Others.pdf',width=1000,height=600)"
   ]
  },
  {
   "cell_type": "markdown",
   "metadata": {},
   "source": [
    "### 思路分析\n",
    "遍历一次数组，不断更新最大值和其他数字的两倍的最大值"
   ]
  },
  {
   "cell_type": "markdown",
   "metadata": {},
   "source": [
    "### solve"
   ]
  },
  {
   "cell_type": "code",
   "execution_count": 28,
   "metadata": {},
   "outputs": [
    {
     "name": "stdout",
     "output_type": "stream",
     "text": [
      "case[3, 6, 1, 0]\n",
      "1\n",
      "case[1, 2, 3, 4]\n",
      "-1\n",
      "case[0, 0, 3, 2]\n",
      "-1\n"
     ]
    }
   ],
   "source": [
    "class Solution:\n",
    "    def dominantIndex(self, array):\n",
    "        maxNum = 0\n",
    "        doubleMax = 0\n",
    "        pos = -1\n",
    "        index = -1\n",
    "        for num in array:\n",
    "            index = index + 1\n",
    "            if num >= maxNum:\n",
    "                doubleMax = 2 * maxNum\n",
    "                maxNum = num\n",
    "                pos = index\n",
    "            else:\n",
    "                if doubleMax < (2*num):\n",
    "                    doubleMax = 2*num\n",
    "        if maxNum >= doubleMax:\n",
    "            return pos\n",
    "        else:\n",
    "            return -1\n",
    "cases = [\n",
    "    [3, 6, 1, 0],\n",
    "    [1, 2, 3, 4],\n",
    "    [0,0,3,2]\n",
    "]\n",
    "for case in cases:\n",
    "    print('case'+str(case))\n",
    "    print(Solution().dominantIndex(case))\n",
    "    "
   ]
  }
 ],
 "metadata": {
  "kernelspec": {
   "display_name": "Python 3",
   "language": "python",
   "name": "python3"
  },
  "language_info": {
   "codemirror_mode": {
    "name": "ipython",
    "version": 3
   },
   "file_extension": ".py",
   "mimetype": "text/x-python",
   "name": "python",
   "nbconvert_exporter": "python",
   "pygments_lexer": "ipython3",
   "version": "3.7.0"
  },
  "toc": {
   "base_numbering": 1,
   "nav_menu": {},
   "number_sections": true,
   "sideBar": true,
   "skip_h1_title": false,
   "title_cell": "Table of Contents",
   "title_sidebar": "Contents",
   "toc_cell": false,
   "toc_position": {},
   "toc_section_display": true,
   "toc_window_display": false
  }
 },
 "nbformat": 4,
 "nbformat_minor": 2
}
