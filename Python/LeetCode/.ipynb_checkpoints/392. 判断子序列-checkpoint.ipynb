{
 "cells": [
  {
   "cell_type": "markdown",
   "metadata": {},
   "source": [
    "### 题目描述"
   ]
  },
  {
   "cell_type": "code",
   "execution_count": 5,
   "metadata": {},
   "outputs": [
    {
     "data": {
      "text/html": [
       "\n",
       "        <iframe\n",
       "            width=\"1000\"\n",
       "            height=\"500\"\n",
       "            src=\"http://121.199.20.52/the_static/PDFs/392.pdf\"\n",
       "            frameborder=\"0\"\n",
       "            allowfullscreen\n",
       "        ></iframe>\n",
       "        "
      ],
      "text/plain": [
       "<IPython.lib.display.IFrame at 0x10d4a3c88>"
      ]
     },
     "execution_count": 5,
     "metadata": {},
     "output_type": "execute_result"
    }
   ],
   "source": [
    "from IPython.display import IFrame\n",
    "IFrame('http://121.199.20.52/the_static/PDFs/392.pdf',width=1000,height=500)"
   ]
  },
  {
   "cell_type": "markdown",
   "metadata": {},
   "source": [
    "### 思路\n",
    "1. 常规贪心思想，两个指针指向子序列和父序列\n",
    "    0). 当两个指针指向的字符相同时，指针同时前进一位\n",
    "    2). 若不相同,父指针前进一位\n",
    "   当指针移出子序列，则返回True，否则返回False"
   ]
  },
  {
   "cell_type": "code",
   "execution_count": 22,
   "metadata": {},
   "outputs": [
    {
     "name": "stdout",
     "output_type": "stream",
     "text": [
      "True\n"
     ]
    }
   ],
   "source": [
    "class Solution:\n",
    "    def isSubsequence(self, s, t):\n",
    "        def index_generator(t):\n",
    "            dic = {}\n",
    "            index = 0\n",
    "            for i in t:\n",
    "                if i not in dic:\n",
    "                    dic[i] = [index]\n",
    "                else:\n",
    "                    dic[i].append(index)\n",
    "                index += 1\n",
    "            return dic\n",
    "        dic = index_generator(t)\n",
    "        pre = -1\n",
    "        ans = []\n",
    "        for i in s:\n",
    "            flag = False\n",
    "            if i not in dic:\n",
    "                return False\n",
    "            current_list = dic[i]\n",
    "            current_list.sort()\n",
    "            for j in current_list:\n",
    "                if j > pre:\n",
    "                    pre = j\n",
    "                    flag = True\n",
    "                    break;\n",
    "            if flag != True:\n",
    "                return False\n",
    "        return True\n",
    "\n",
    "\n",
    "s = \"abc\"\n",
    "t = \"ahbgdc\"\n",
    "\n",
    "solution = Solution()\n",
    "\n",
    "print(solution.isSubsequence(s,t))\n",
    "             \n",
    "        \n",
    "        "
   ]
  },
  {
   "cell_type": "markdown",
   "metadata": {},
   "source": [
    "迭代器和生成器版本，利用生成器index会保留的特性"
   ]
  },
  {
   "cell_type": "code",
   "execution_count": 26,
   "metadata": {},
   "outputs": [
    {
     "name": "stdout",
     "output_type": "stream",
     "text": [
      "1\n",
      "[0]\n"
     ]
    }
   ],
   "source": [
    "def is_subsequence(a, b):\n",
    "    index = 0\n",
    "    index_a = 0\n",
    "    for i in a:\n",
    "        if i == b[index]:\n",
    "            index += 1\n",
    "            print(i)\n",
    "            yield index_a\n",
    "        index_a += 1\n",
    "        \n",
    "        \n",
    "print(list(is_subsequence([1, 3, 5], [1, 2, 3, 4, 5])))\n",
    "# print(is_subsequence([1, 4, 3], [1, 2, 3, 4, 5]))"
   ]
  },
  {
   "cell_type": "code",
   "execution_count": 70,
   "metadata": {},
   "outputs": [
    {
     "data": {
      "text/plain": [
       "True"
      ]
     },
     "execution_count": 70,
     "metadata": {},
     "output_type": "execute_result"
    }
   ],
   "source": [
    "class Solution:\n",
    "    def isSubsequence(self, s, t):\n",
    "        if len(s) == 0:\n",
    "            return True\n",
    "        generator = self.is_subsequence(s,t)\n",
    "        ans = list(generator)\n",
    "        if len(ans) == len(s):\n",
    "            return True\n",
    "        else:\n",
    "            return False\n",
    "    def is_subsequence(self,a, b):\n",
    "        index = 0\n",
    "        for i,key in enumerate(b):\n",
    "            if index >= len(a):\n",
    "                break\n",
    "            if key == a[index]:\n",
    "                index += 1\n",
    "                yield (i,index)\n",
    "\n",
    "solution = Solution()\n",
    "solution.isSubsequence('leeeeetcode', 'leeeeetcodeff')"
   ]
  },
  {
   "cell_type": "markdown",
   "metadata": {},
   "source": [
    "终极版"
   ]
  },
  {
   "cell_type": "code",
   "execution_count": 90,
   "metadata": {},
   "outputs": [
    {
     "name": "stdout",
     "output_type": "stream",
     "text": [
      "<generator object Solution.isSubsequence.<locals>.<genexpr> at 0x10d6cf728>\n",
      "False\n"
     ]
    }
   ],
   "source": [
    "class Solution:\n",
    "    def isSubsequence(self,a, b):\n",
    "        b = iter(b)   #这一行必不可缺，不要以为列表和迭代器都可以使用for in 就可以省略，经过实践，只有迭代器才能实现功能\n",
    "        print(i in b for i in a)\n",
    "        return all(i in b for i in a)\n",
    "\n",
    "solution = Solution()\n",
    "# print(solution.isSubsequence([1, 3, 5], [1, 2, 3, 4, 5]))\n",
    "print(solution.isSubsequence([1, 4, 3], [1, 2, 3, 4, 5]))\n",
    "\n",
    "\n",
    "########## 输出 ##########\n",
    "\n",
    "# True\n",
    "# False"
   ]
  },
  {
   "cell_type": "code",
   "execution_count": null,
   "metadata": {},
   "outputs": [],
   "source": []
  }
 ],
 "metadata": {
  "kernelspec": {
   "display_name": "Python 3",
   "language": "python",
   "name": "python3"
  },
  "language_info": {
   "codemirror_mode": {
    "name": "ipython",
    "version": 3
   },
   "file_extension": ".py",
   "mimetype": "text/x-python",
   "name": "python",
   "nbconvert_exporter": "python",
   "pygments_lexer": "ipython3",
   "version": "3.6.0"
  }
 },
 "nbformat": 4,
 "nbformat_minor": 2
}
