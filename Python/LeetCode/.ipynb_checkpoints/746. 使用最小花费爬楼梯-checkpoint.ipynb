{
 "cells": [
  {
   "cell_type": "markdown",
   "metadata": {},
   "source": [
    "### 题目描述"
   ]
  },
  {
   "cell_type": "code",
   "execution_count": 30,
   "metadata": {
    "scrolled": true
   },
   "outputs": [
    {
     "data": {
      "text/html": [
       "\n",
       "        <iframe\n",
       "            width=\"1000\"\n",
       "            height=\"900\"\n",
       "            src=\"http://121.199.20.52/the_static/PDFs/746. min-cost-climbing-stairs.pdf\"\n",
       "            frameborder=\"0\"\n",
       "            allowfullscreen\n",
       "        ></iframe>\n",
       "        "
      ],
      "text/plain": [
       "<IPython.lib.display.IFrame at 0x7e2ce50>"
      ]
     },
     "execution_count": 30,
     "metadata": {},
     "output_type": "execute_result"
    }
   ],
   "source": [
    "from IPython.display import IFrame\n",
    "IFrame('http://121.199.20.52/the_static/PDFs/746. min-cost-climbing-stairs.pdf',width=1000,height=900)"
   ]
  },
  {
   "cell_type": "markdown",
   "metadata": {},
   "source": [
    "### 思路分析\n",
    "典型的dp \n",
    "```\n",
    "dp[i] = min(dp[i-1],dp[i-2]) + cost[i] (i > 2) dp[1] = dp[2] = 0;\n",
    "```"
   ]
  },
  {
   "cell_type": "markdown",
   "metadata": {},
   "source": [
    "### solve"
   ]
  },
  {
   "cell_type": "code",
   "execution_count": 28,
   "metadata": {
    "cell_style": "center"
   },
   "outputs": [
    {
     "name": "stdout",
     "output_type": "stream",
     "text": [
      "case[10, 15, 20]\n",
      "15\n",
      "case[1, 100, 1, 1, 1, 100, 1, 1, 100, 1]\n",
      "6\n"
     ]
    }
   ],
   "source": [
    "class Solution:\n",
    "    def minCostClimbingStairs(self, cost):\n",
    "        dp = [0,0]\n",
    "#         因为只需要前两级台阶的值，所以数组只需要两个元素即可。\n",
    "        for i in cost:\n",
    "            tmp = dp[1]\n",
    "            dp[1] = min(dp[1],dp[0])+i\n",
    "            dp[0] = tmp\n",
    "        return min(dp[0],dp[1])\n",
    "\n",
    "cases= [\n",
    "    [10, 15, 20],\n",
    "    [1, 100, 1, 1, 1, 100, 1, 1, 100, 1]\n",
    "]\n",
    "for case in cases:\n",
    "    print('case'+str(case))\n",
    "    print(Solution().minCostClimbingStairs(case))\n",
    "    "
   ]
  }
 ],
 "metadata": {
  "kernelspec": {
   "display_name": "Python 3",
   "language": "python",
   "name": "python3"
  },
  "language_info": {
   "codemirror_mode": {
    "name": "ipython",
    "version": 3
   },
   "file_extension": ".py",
   "mimetype": "text/x-python",
   "name": "python",
   "nbconvert_exporter": "python",
   "pygments_lexer": "ipython3",
   "version": "3.7.0"
  },
  "toc": {
   "base_numbering": 1,
   "nav_menu": {},
   "number_sections": true,
   "sideBar": true,
   "skip_h1_title": false,
   "title_cell": "Table of Contents",
   "title_sidebar": "Contents",
   "toc_cell": false,
   "toc_position": {},
   "toc_section_display": true,
   "toc_window_display": false
  }
 },
 "nbformat": 4,
 "nbformat_minor": 2
}
