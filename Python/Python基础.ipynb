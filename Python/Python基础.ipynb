{
 "cells": [
  {
   "cell_type": "markdown",
   "metadata": {},
   "source": [
    "#### 列表和元组\n",
    "##### 区别\n",
    "1. 列表是动态的，长度不固定，可以增加、删减和改变元素\n",
    "2. 元组是静态的，长度固定，不可增删改"
   ]
  },
  {
   "cell_type": "code",
   "execution_count": 20,
   "metadata": {},
   "outputs": [
    {
     "name": "stdout",
     "output_type": "stream",
     "text": [
      "list = [1, 2]\n",
      "list = [1]\n",
      "2\n"
     ]
    }
   ],
   "source": [
    "list = []\n",
    "list.append(1)\n",
    "list.append(2)\n",
    "print('list = {}'.format(list))\n",
    "list.remove(2)\n",
    "print('list = {}'.format(list))\n",
    "tup = (1,2,3,4)\n",
    "print(tup[1])\n",
    "# tup[0] = 2 #TypeError: 'tuple' object does not support item assignment   "
   ]
  },
  {
   "cell_type": "markdown",
   "metadata": {},
   "source": [
    "元组是不可变的，要改变一个已存在的元组，只能重新开辟一块内存，创建新的元组。"
   ]
  },
  {
   "cell_type": "code",
   "execution_count": 22,
   "metadata": {},
   "outputs": [
    {
     "name": "stdout",
     "output_type": "stream",
     "text": [
      "(1, 2, 3, 4, 5)\n"
     ]
    }
   ],
   "source": [
    "new_tup = tup + (5,)\n",
    "print(new_tup)"
   ]
  },
  {
   "cell_type": "markdown",
   "metadata": {},
   "source": [
    "##### 基本操作\n",
    "###### 负数索引"
   ]
  },
  {
   "cell_type": "code",
   "execution_count": 30,
   "metadata": {},
   "outputs": [
    {
     "name": "stdout",
     "output_type": "stream",
     "text": [
      "list = [0, 1, 2, 3, 4]\n",
      "list[-1] = 4\n",
      "tup[-1] = 4\n"
     ]
    }
   ],
   "source": [
    "list = [0,1,2,3,4]\n",
    "print('list = {}'.format(list))\n",
    "print('list[-1] = {}'.format(list[-1]))\n",
    "tup = (0,1,2,3,4)\n",
    "print('tup[-1] = {}'.format(tup[-1]))"
   ]
  },
  {
   "cell_type": "markdown",
   "metadata": {},
   "source": [
    "###### 切片操作"
   ]
  },
  {
   "cell_type": "code",
   "execution_count": 33,
   "metadata": {},
   "outputs": [
    {
     "name": "stdout",
     "output_type": "stream",
     "text": [
      "[2, 3]\n",
      "(2, 3)\n"
     ]
    }
   ],
   "source": [
    "\n",
    "l = [1, 2, 3, 4]\n",
    "print(l[1:3]) # 返回列表中索引从1到2的子列表\n",
    "\n",
    "\n",
    "tup = (1, 2, 3, 4)\n",
    "print(tup[1:3]) # 返回元组中索引从1到2的子元组"
   ]
  },
  {
   "cell_type": "markdown",
   "metadata": {},
   "source": [
    "###### 随意嵌套"
   ]
  },
  {
   "cell_type": "code",
   "execution_count": 34,
   "metadata": {},
   "outputs": [
    {
     "name": "stdout",
     "output_type": "stream",
     "text": [
      "[[1, 2, 3], [4, 5]]\n",
      "((1, 2, 3), (4, 5, 6))\n"
     ]
    }
   ],
   "source": [
    "l = [[1, 2, 3], [4, 5]] # 列表的每一个元素也是一个列表\n",
    "print(l)\n",
    "tup = ((1, 2, 3), (4, 5, 6)) # 元组的每一个元素也是一个元组\\\n",
    "print(tup)"
   ]
  },
  {
   "cell_type": "markdown",
   "metadata": {},
   "source": [
    "###### 内置函数\n",
    "list.reverse() 和 list.sort() 分别表示原地倒转列表和排序（注意，元组没有内置的这两个函数)。\n",
    "\n",
    "reversed() 和 sorted() 同样表示对列表 / 元组进行倒转和排序，但是会返回一个倒转后或者排好序的新的列表 / 元组。"
   ]
  },
  {
   "cell_type": "code",
   "execution_count": 50,
   "metadata": {},
   "outputs": [
    {
     "name": "stdout",
     "output_type": "stream",
     "text": [
      "2\n",
      "0\n",
      "[5, 4, 3, 1, 1]\n",
      "[1, 1, 3, 4, 5]\n",
      "<list_reverseiterator object at 0x06E40850>\n"
     ]
    }
   ],
   "source": [
    "list = [1,1,3,4,5]\n",
    "print(list.count(1))\n",
    "print(list.index(1))\n",
    "list.reverse()\n",
    "# print(list.reverse())\n",
    "print(list)\n",
    "list.sort()\n",
    "print(list)\n",
    "\n",
    "print(reversed(list))"
   ]
  }
 ],
 "metadata": {
  "kernelspec": {
   "display_name": "Python 3",
   "language": "python",
   "name": "python3"
  },
  "language_info": {
   "codemirror_mode": {
    "name": "ipython",
    "version": 3
   },
   "file_extension": ".py",
   "mimetype": "text/x-python",
   "name": "python",
   "nbconvert_exporter": "python",
   "pygments_lexer": "ipython3",
   "version": "3.7.0"
  },
  "toc": {
   "base_numbering": 1,
   "nav_menu": {},
   "number_sections": false,
   "sideBar": true,
   "skip_h1_title": false,
   "title_cell": "Table of Contents",
   "title_sidebar": "Contents",
   "toc_cell": false,
   "toc_position": {},
   "toc_section_display": true,
   "toc_window_display": false
  }
 },
 "nbformat": 4,
 "nbformat_minor": 2
}
