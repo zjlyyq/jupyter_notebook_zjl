{
 "cells": [
  {
   "cell_type": "code",
   "execution_count": 2,
   "metadata": {},
   "outputs": [
    {
     "name": "stdout",
     "output_type": "stream",
     "text": [
      "0    movieName\n",
      "1      movieId\n",
      "dtype: object\n"
     ]
    }
   ],
   "source": [
    "import jieba\n",
    "import wordcloud\n",
    "import numpy as np\n",
    "import pandas as pd\n",
    "\n",
    "\n",
    "s = pd.Series(['movieName','movieId'])\n",
    "\n",
    "print(s)"
   ]
  }
 ],
 "metadata": {
  "kernelspec": {
   "display_name": "Python 3",
   "language": "python",
   "name": "python3"
  },
  "language_info": {
   "codemirror_mode": {
    "name": "ipython",
    "version": 3
   },
   "file_extension": ".py",
   "mimetype": "text/x-python",
   "name": "python",
   "nbconvert_exporter": "python",
   "pygments_lexer": "ipython3",
   "version": "3.6.0"
  }
 },
 "nbformat": 4,
 "nbformat_minor": 2
}
