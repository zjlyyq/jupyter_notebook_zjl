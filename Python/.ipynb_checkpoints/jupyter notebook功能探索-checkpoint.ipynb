{
 "cells": [
  {
   "cell_type": "markdown",
   "metadata": {
    "slideshow": {
     "slide_type": "slide"
    },
    "toc": true
   },
   "source": [
    "<h1>Table of Contents<span class=\"tocSkip\"></span></h1>\n",
    "<div class=\"toc\"><ul class=\"toc-item\"><li><span><a href=\"#执行shell命令\" data-toc-modified-id=\"执行shell命令-1\">执行shell命令</a></span></li><li><span><a href=\"#使用Jupyter主题\" data-toc-modified-id=\"使用Jupyter主题-2\">使用Jupyter主题</a></span><ul class=\"toc-item\"><li><span><a href=\"#安装\" data-toc-modified-id=\"安装-2.1\">安装</a></span></li><li><span><a href=\"#列出可用的主题列表\" data-toc-modified-id=\"列出可用的主题列表-2.2\">列出可用的主题列表</a></span></li></ul></li><li><span><a href=\"#使用拓展\" data-toc-modified-id=\"使用拓展-3\">使用拓展</a></span><ul class=\"toc-item\"><li><span><a href=\"#安装\" data-toc-modified-id=\"安装-3.1\">安装</a></span></li><li><span><a href=\"#一些实用的扩展\" data-toc-modified-id=\"一些实用的扩展-3.2\">一些实用的扩展</a></span><ul class=\"toc-item\"><li><span><a href=\"#Hinterland\" data-toc-modified-id=\"Hinterland-3.2.1\">Hinterland</a></span></li><li><span><a href=\"#Snippets\" data-toc-modified-id=\"Snippets-3.2.2\">Snippets</a></span></li><li><span><a href=\"#Split-Cells-Notebook\" data-toc-modified-id=\"Split-Cells-Notebook-3.2.3\">Split Cells Notebook</a></span></li><li><span><a href=\"#Table-of-Contents\" data-toc-modified-id=\"Table-of-Contents-3.2.4\">Table of Contents</a></span></li><li><span><a href=\"#Collapsible-Headings\" data-toc-modified-id=\"Collapsible-Headings-3.2.5\">Collapsible Headings</a></span></li><li><span><a href=\"#Autopep8\" data-toc-modified-id=\"Autopep8-3.2.6\">Autopep8</a></span></li></ul></li></ul></li><li><span><a href=\"#Jupyter小工具\" data-toc-modified-id=\"Jupyter小工具-4\">Jupyter小工具</a></span><ul class=\"toc-item\"><li><span><a href=\"#安装\" data-toc-modified-id=\"安装-4.1\">安装</a></span></li><li><span><a href=\"#Interact\" data-toc-modified-id=\"Interact-4.2\">Interact</a></span></li><li><span><a href=\"#一些基础部件\" data-toc-modified-id=\"一些基础部件-4.3\">一些基础部件</a></span><ul class=\"toc-item\"><li><span><a href=\"#滑块\" data-toc-modified-id=\"滑块-4.3.1\">滑块</a></span></li><li><span><a href=\"#单选框\" data-toc-modified-id=\"单选框-4.3.2\">单选框</a></span></li><li><span><a href=\"#文本框\" data-toc-modified-id=\"文本框-4.3.3\">文本框</a></span></li></ul></li><li><span><a href=\"#高级部件\" data-toc-modified-id=\"高级部件-4.4\">高级部件</a></span><ul class=\"toc-item\"><li><span><a href=\"#播放部件\" data-toc-modified-id=\"播放部件-4.4.1\">播放部件</a></span></li><li><span><a href=\"#日期选择器\" data-toc-modified-id=\"日期选择器-4.4.2\">日期选择器</a></span></li><li><span><a href=\"#颜色选择器\" data-toc-modified-id=\"颜色选择器-4.4.3\">颜色选择器</a></span></li><li><span><a href=\"#标签\" data-toc-modified-id=\"标签-4.4.4\">标签</a></span></li></ul></li></ul></li><li><span><a href=\"#Qgrid\" data-toc-modified-id=\"Qgrid-5\">Qgrid</a></span><ul class=\"toc-item\"><li><span><a href=\"#安装\" data-toc-modified-id=\"安装-5.1\">安装</a></span><ul class=\"toc-item\"><li><span><a href=\"#Installing-with-pip:\" data-toc-modified-id=\"Installing-with-pip:-5.1.1\">Installing with pip:</a></span></li><li><span><a href=\"#Installing-with-conda:\" data-toc-modified-id=\"Installing-with-conda:-5.1.2\">Installing with conda:</a></span></li><li><span><a href=\"#使用\" data-toc-modified-id=\"使用-5.1.3\">使用</a></span></li></ul></li></ul></li><li><span><a href=\"#幻灯片（Slideshow）\" data-toc-modified-id=\"幻灯片（Slideshow）-6\">幻灯片（Slideshow）</a></span></li><li><span><a href=\"#嵌入URL，PDF和Youtube视频\" data-toc-modified-id=\"嵌入URL，PDF和Youtube视频-7\">嵌入URL，PDF和Youtube视频</a></span><ul class=\"toc-item\"><li><span><a href=\"#URL\" data-toc-modified-id=\"URL-7.1\">URL</a></span></li><li><span><a href=\"#PDFs\" data-toc-modified-id=\"PDFs-7.2\">PDFs</a></span></li><li><span><a href=\"#Youtube视频\" data-toc-modified-id=\"Youtube视频-7.3\">Youtube视频</a></span></li></ul></li></ul></div>"
   ]
  },
  {
   "cell_type": "markdown",
   "metadata": {
    "heading_collapsed": true,
    "slideshow": {
     "slide_type": "slide"
    }
   },
   "source": [
    "### 执行shell命令\n",
    "任何能在shell里运行的命令，都能通过添加!前缀的方式直接在IPython中运行。因为笔者本机是win10系统，所以只能运行DOS命令。"
   ]
  },
  {
   "cell_type": "code",
   "execution_count": 13,
   "metadata": {
    "cell_style": "center",
    "hidden": true
   },
   "outputs": [
    {
     "name": "stdout",
     "output_type": "stream",
     "text": [
      " 驱动器 D 中的卷是 软件\n",
      " 卷的序列号是 0983-1230\n",
      "\n",
      " D:\\CodeIsMyLife\\jupyter_notebook\\Python 的目录\n",
      "\n",
      "2019/12/17  21:39    <DIR>          .\n",
      "2019/12/17  21:39    <DIR>          ..\n",
      "2019/12/17  21:25    <DIR>          .ipynb_checkpoints\n",
      "2019/12/17  21:39             1,786 jupyter notebook功能探索.ipynb\n",
      "               1 个文件          1,786 字节\n",
      "               3 个目录    189,489,152 可用字节\n",
      "'Hello World!!!'\n"
     ]
    },
    {
     "name": "stderr",
     "output_type": "stream",
     "text": [
      "'ls' 不是内部或外部命令，也不是可运行的程序\n",
      "或批处理文件。\n"
     ]
    }
   ],
   "source": [
    "!dir\n",
    "!echo 'Hello World!!!'\n",
    "!ls"
   ]
  },
  {
   "cell_type": "markdown",
   "metadata": {
    "cell_style": "split",
    "hidden": true
   },
   "source": [
    "甚至能将值传递给shell。"
   ]
  },
  {
   "cell_type": "code",
   "execution_count": 2,
   "metadata": {
    "hidden": true
   },
   "outputs": [
    {
     "name": "stdout",
     "output_type": "stream",
     "text": [
      "['当前日期: 2019/12/17 周二 ', '输入新日期: (年月日) ']\n"
     ]
    }
   ],
   "source": [
    "date = !date\n",
    "print(date)"
   ]
  },
  {
   "cell_type": "markdown",
   "metadata": {
    "slideshow": {
     "slide_type": "slide"
    }
   },
   "source": [
    "### 使用Jupyter主题\n",
    "如果觉得默认的白的背景会使你枯燥的话，那么恭喜你，主题就是为你准备的。主题也能增强代码的呈现方式。可以[在此](https://github.com/dunovank/jupyter-themes)处找到有关Jupyter主题的更多信息。\n",
    "\n",
    "#### 安装\n",
    "```\n",
    "pip install jupyterthemes\n",
    "```\n",
    "#### 列出可用的主题列表\n",
    "```\n",
    "jt -l\n",
    "```"
   ]
  },
  {
   "cell_type": "code",
   "execution_count": 4,
   "metadata": {},
   "outputs": [
    {
     "name": "stdout",
     "output_type": "stream",
     "text": [
      "Available Themes: \n",
      "   chesterish\n",
      "   grade3\n",
      "   gruvboxd\n",
      "   gruvboxl\n",
      "   monokai\n",
      "   oceans16\n",
      "   onedork\n",
      "   solarizedd\n",
      "   solarizedl\n"
     ]
    }
   ],
   "source": [
    "!jt -l"
   ]
  },
  {
   "cell_type": "markdown",
   "metadata": {},
   "source": [
    "以上就是目前能获得的主题。\n",
    "```\n",
    "#选择一个特定的主题\n",
    "jt -t <name of the theme>\n",
    "#切换回默认主题\n",
    "jt -r\n",
    "```\n",
    "每次更改主题需要重新加载页面才能生效。就像上面说的你这一直接在Jupyter Notebook内就运行上述命令，通过添加'!'前缀的方式。"
   ]
  },
  {
   "cell_type": "code",
   "execution_count": 1,
   "metadata": {},
   "outputs": [
    {
     "name": "stdout",
     "output_type": "stream",
     "text": [
      "Reset css and font defaults in:\n",
      "C:\\Users\\Administrator\\.jupyter\\custom &\n",
      "C:\\Users\\Administrator\\AppData\\Roaming\\jupyter\\nbextensions\n"
     ]
    }
   ],
   "source": [
    "!jt -t onedork\n",
    "!jt -r "
   ]
  },
  {
   "cell_type": "markdown",
   "metadata": {
    "cell_style": "center",
    "slideshow": {
     "slide_type": "slide"
    }
   },
   "source": [
    "### 使用拓展\n",
    "所谓的扩展其实就是JavaScript模块，你可以在笔记本前端的大部分页面加载这些模块。扩展可以修改用户界面和增强体验。\n",
    "#### 安装\n",
    "通过conda安装：\n",
    "```\n",
    "conda install -c conda-forge jupyter_nbextensions_configurator\n",
    "```\n",
    "或者，通过pip安装：\n",
    "```\n",
    "pip install jupyter_contrib_nbextensions && jupyter contrib nbextension install\n",
    "#以防在macOS上碰到权限问题\n",
    "pip install jupyter_contrib_nbextensions && jupyter contrib nbextension install --user\n",
    "```\n",
    "启动Jupyter notebook，可以看到一个有许多可选项的标签页`NBextensions Tab `\n",
    "![Snipaste_2019-12-17_22-37-53.png](attachment:Snipaste_2019-12-17_22-37-53.png)\n",
    "\n",
    "点击扩展会呈现此扩展的基本用法和演示。\n",
    "![Snipaste_2019-12-17_22-40-18.png](attachment:Snipaste_2019-12-17_22-40-18.png)\n",
    "#### 一些实用的扩展\n",
    "##### Hinterland\n",
    "实现Python代码自动补全的功能。\n",
    "##### Snippets\n",
    "此扩展程序在“笔记本”工具栏中添加了一个下拉菜单，可轻松将代码段单元格插入当前的笔记本中。\n",
    "> 自定义片段：只需要打开`$(jupyter --data-dir)/nbextensions/snippets/snippets.json`文件依葫芦画瓢即可。\n",
    "\n",
    "##### Split Cells Notebook\n",
    "实现单元格拆分，实现两个单元格并排显示的作用。\n",
    "##### Table of Contents\n",
    "笔记本的目录管理\n",
    "##### Collapsible Headings\n",
    "折叠代码\n",
    "##### Autopep8\n",
    "格式化代码块"
   ]
  },
  {
   "cell_type": "markdown",
   "metadata": {
    "cell_style": "center",
    "slideshow": {
     "slide_type": "slide"
    }
   },
   "source": [
    "### Jupyter小工具\n",
    "这些小部件是事件多变的python对象，它们在浏览器中具有表示形式，通常作为滑块，文本框等控件。\n",
    "#### 安装\n",
    "```\n",
    "# pip\n",
    "pip install ipywidgets\n",
    "jupyter nbextension enable --py widgetsnbextension\n",
    "# Conda\n",
    "conda install -c conda-forge ipywidgets\n",
    "#Installing ipywidgets with conda automatically enables the extension\n",
    "```\n",
    "让我们看一些小部件。有关完整的详细信息，可以访问其[Github存储库](https://github.com/jupyter-widgets/ipywidgets/blob/1223d4128aebe6c8831a034a73d1546a91f5138a/docs/source/examples/Using%20Interact.ipynb\n",
    ")。\n",
    "#### Interact\n",
    "interact函数（ipywidgets.interact）自动创建用于交互浏览代码和数据的用户界面（UI）控件。这是开始使用IPython的小部件的最简单方法。\n",
    "```\n",
    "# Start with some imports!\n",
    "from ipywidgets import interact\n",
    "import ipywidgets as widgets\n",
    "```"
   ]
  },
  {
   "cell_type": "code",
   "execution_count": 7,
   "metadata": {
    "slideshow": {
     "slide_type": "subslide"
    }
   },
   "outputs": [],
   "source": [
    "# Start with some imports!\n",
    "from ipywidgets import interact\n",
    "import ipywidgets as widgets"
   ]
  },
  {
   "cell_type": "markdown",
   "metadata": {
    "slideshow": {
     "slide_type": "subslide"
    }
   },
   "source": [
    "#### 一些基础部件\n",
    "##### 滑块"
   ]
  },
  {
   "cell_type": "code",
   "execution_count": 8,
   "metadata": {
    "slideshow": {
     "slide_type": "subslide"
    }
   },
   "outputs": [
    {
     "data": {
      "application/vnd.jupyter.widget-view+json": {
       "model_id": "927891bee3fd4cbd8e44b4d6f958b397",
       "version_major": 2,
       "version_minor": 0
      },
      "text/plain": [
       "interactive(children=(IntSlider(value=10, description='x', max=30, min=-10), Output()), _dom_classes=('widget-…"
      ]
     },
     "metadata": {},
     "output_type": "display_data"
    }
   ],
   "source": [
    "def f(x):\n",
    "    return x\n",
    "# Generate a slider \n",
    "interact(f, x=10,);"
   ]
  },
  {
   "cell_type": "markdown",
   "metadata": {
    "slideshow": {
     "slide_type": "subslide"
    }
   },
   "source": [
    "##### 单选框"
   ]
  },
  {
   "cell_type": "code",
   "execution_count": 13,
   "metadata": {
    "slideshow": {
     "slide_type": "subslide"
    }
   },
   "outputs": [
    {
     "data": {
      "application/vnd.jupyter.widget-view+json": {
       "model_id": "ca9891db9be044f5ae3bdf0d941793ea",
       "version_major": 2,
       "version_minor": 0
      },
      "text/plain": [
       "interactive(children=(Checkbox(value=True, description='x'), Output()), _dom_classes=('widget-interact',))"
      ]
     },
     "metadata": {},
     "output_type": "display_data"
    }
   ],
   "source": [
    "# Booleans generate check-boxes\n",
    "interact(f, x=True);"
   ]
  },
  {
   "cell_type": "markdown",
   "metadata": {
    "slideshow": {
     "slide_type": "subslide"
    }
   },
   "source": [
    "##### 文本框"
   ]
  },
  {
   "cell_type": "code",
   "execution_count": 16,
   "metadata": {
    "slideshow": {
     "slide_type": "subslide"
    }
   },
   "outputs": [
    {
     "data": {
      "application/vnd.jupyter.widget-view+json": {
       "model_id": "15b17052d673416a8264338db805f273",
       "version_major": 2,
       "version_minor": 0
      },
      "text/plain": [
       "interactive(children=(Text(value='Hi there!', description='x'), Output()), _dom_classes=('widget-interact',))"
      ]
     },
     "metadata": {},
     "output_type": "display_data"
    }
   ],
   "source": [
    "# Strings generate text areas\n",
    "interact(f, x='Hi there!');"
   ]
  },
  {
   "cell_type": "markdown",
   "metadata": {
    "slideshow": {
     "slide_type": "subslide"
    }
   },
   "source": [
    "#### 高级部件\n",
    "##### 播放部件\n",
    "Play小部件通过以一定速度迭代整数序列来执行动画，下面滑块的值链接到播放器。"
   ]
  },
  {
   "cell_type": "code",
   "execution_count": 26,
   "metadata": {
    "slideshow": {
     "slide_type": "subslide"
    }
   },
   "outputs": [
    {
     "data": {
      "application/vnd.jupyter.widget-view+json": {
       "model_id": "fadabf165d174e898748bc30eb3fd796",
       "version_major": 2,
       "version_minor": 0
      },
      "text/plain": [
       "HBox(children=(Play(value=50, description='Press play', interval=1000), IntSlider(value=0)))"
      ]
     },
     "metadata": {},
     "output_type": "display_data"
    }
   ],
   "source": [
    "play = widgets.Play(\n",
    "#     interval代表执行一次迭代的毫秒数\n",
    "    interval=1000,\n",
    "    value=50,\n",
    "    min=0,\n",
    "    max=100,\n",
    "    step=1,\n",
    "    description=\"Press play\",\n",
    "    disabled=False\n",
    ")\n",
    "slider = widgets.IntSlider()\n",
    "widgets.jslink((play, 'value'), (slider, 'value'))\n",
    "widgets.HBox([play, slider])"
   ]
  },
  {
   "cell_type": "markdown",
   "metadata": {
    "slideshow": {
     "slide_type": "subslide"
    }
   },
   "source": [
    "##### 日期选择器\n",
    "日期选择器小部件可在Chrome和IE Edge中使用，但当前在Firefox或Safari中不可用，因为它们不支持HTML日期输入字段。"
   ]
  },
  {
   "cell_type": "code",
   "execution_count": 31,
   "metadata": {
    "slideshow": {
     "slide_type": "subslide"
    }
   },
   "outputs": [
    {
     "data": {
      "application/vnd.jupyter.widget-view+json": {
       "model_id": "538e791ab761484fbcf2d9684a1b170f",
       "version_major": 2,
       "version_minor": 0
      },
      "text/plain": [
       "DatePicker(value=None, description='Pick a Date')"
      ]
     },
     "metadata": {},
     "output_type": "display_data"
    }
   ],
   "source": [
    "widgets.DatePicker(\n",
    "    description='Pick a Date',\n",
    "    disabled=False\n",
    ")"
   ]
  },
  {
   "cell_type": "markdown",
   "metadata": {
    "slideshow": {
     "slide_type": "subslide"
    }
   },
   "source": [
    "##### 颜色选择器"
   ]
  },
  {
   "cell_type": "code",
   "execution_count": 34,
   "metadata": {
    "slideshow": {
     "slide_type": "subslide"
    }
   },
   "outputs": [
    {
     "data": {
      "application/vnd.jupyter.widget-view+json": {
       "model_id": "55214fa98d824ab88d7bab8ca1db7e69",
       "version_major": 2,
       "version_minor": 0
      },
      "text/plain": [
       "ColorPicker(value='blue', description='Pick a color')"
      ]
     },
     "metadata": {},
     "output_type": "display_data"
    }
   ],
   "source": [
    "widgets.ColorPicker(\n",
    "    concise=False,\n",
    "    description='Pick a color',\n",
    "    value='blue',\n",
    "    disabled=False\n",
    ")"
   ]
  },
  {
   "cell_type": "markdown",
   "metadata": {
    "slideshow": {
     "slide_type": "subslide"
    }
   },
   "source": [
    "##### 标签\n"
   ]
  },
  {
   "cell_type": "code",
   "execution_count": 35,
   "metadata": {
    "slideshow": {
     "slide_type": "subslide"
    }
   },
   "outputs": [
    {
     "data": {
      "application/vnd.jupyter.widget-view+json": {
       "model_id": "4a6d4543bd6c4be7a9f09fc7348bec31",
       "version_major": 2,
       "version_minor": 0
      },
      "text/plain": [
       "Tab(children=(Text(value='', description='P0'), Text(value='', description='P1'), Text(value='', description='…"
      ]
     },
     "metadata": {},
     "output_type": "display_data"
    }
   ],
   "source": [
    "tab_contents = ['P0', 'P1', 'P2', 'P3', 'P4']\n",
    "children = [widgets.Text(description=name) for name in tab_contents]\n",
    "tab = widgets.Tab()\n",
    "tab.children = children\n",
    "for i in range(len(children)):\n",
    "    tab.set_title(i, str(i))\n",
    "tab"
   ]
  },
  {
   "cell_type": "markdown",
   "metadata": {
    "slideshow": {
     "slide_type": "slide"
    }
   },
   "source": [
    "### Qgrid\n",
    "Qgrid也是Jupyter Notebook小部件，但主要侧重于数据帧。它使用SlickGrid在Jupyter笔记本中渲染pandas DataFrame。这使你可以使用直观的滚动，排序和过滤控件来浏览DataFrame，以及通过双击单元格来编辑DataFrame。[Github存储库](https://github.com/quantopian/qgrid)包含更多详细信息和示例。\n",
    "#### 安装\n",
    "##### Installing with pip:\n",
    "```\n",
    "pip install qgrid\n",
    "jupyter nbextension enable --py --sys-prefix qgrid\n",
    "# only required if you have not enabled the ipywidgets nbextension yet\n",
    "jupyter nbextension enable --py --sys-prefix widgetsnbextension\n",
    "```\n",
    "##### Installing with conda:\n",
    "```\n",
    "# only required if you have not added conda-forge to your channels yet\n",
    "conda config --add channels conda-forge\n",
    "conda install qgrid\n",
    "```\n",
    "##### 使用\n",
    "尚属知识盲区\n",
    "### 幻灯片（Slideshow）\n"
   ]
  },
  {
   "cell_type": "markdown",
   "metadata": {},
   "source": [
    "### 嵌入URL，PDF和Youtube视频\n",
    "#### URL\n"
   ]
  },
  {
   "cell_type": "code",
   "execution_count": 44,
   "metadata": {},
   "outputs": [
    {
     "data": {
      "text/html": [
       "\n",
       "        <iframe\n",
       "            width=\"800\"\n",
       "            height=\"450\"\n",
       "            src=\"https://towardsdatascience.com/bringing-the-best-out-of-jupyter-notebooks-for-data-science-f0871519ca29#49ad\"\n",
       "            frameborder=\"0\"\n",
       "            allowfullscreen\n",
       "        ></iframe>\n",
       "        "
      ],
      "text/plain": [
       "<IPython.lib.display.IFrame at 0xf44ef50>"
      ]
     },
     "execution_count": 44,
     "metadata": {},
     "output_type": "execute_result"
    }
   ],
   "source": [
    "from IPython.display import IFrame\n",
    "IFrame('https://towardsdatascience.com/bringing-the-best-out-of-jupyter-notebooks-for-data-science-f0871519ca29#49ad', width=800, height=450)"
   ]
  },
  {
   "cell_type": "markdown",
   "metadata": {},
   "source": [
    "#### PDFs"
   ]
  },
  {
   "cell_type": "code",
   "execution_count": 46,
   "metadata": {},
   "outputs": [
    {
     "data": {
      "text/html": [
       "\n",
       "        <iframe\n",
       "            width=\"800\"\n",
       "            height=\"450\"\n",
       "            src=\"https://arxiv.org/pdf/1406.2661.pdf\"\n",
       "            frameborder=\"0\"\n",
       "            allowfullscreen\n",
       "        ></iframe>\n",
       "        "
      ],
      "text/plain": [
       "<IPython.lib.display.IFrame at 0xf6494f0>"
      ]
     },
     "execution_count": 46,
     "metadata": {},
     "output_type": "execute_result"
    }
   ],
   "source": [
    "from IPython.display import IFrame\n",
    "IFrame('https://arxiv.org/pdf/1406.2661.pdf', width=800, height=450)"
   ]
  },
  {
   "cell_type": "markdown",
   "metadata": {},
   "source": [
    "#### Youtube视频"
   ]
  },
  {
   "cell_type": "code",
   "execution_count": 49,
   "metadata": {},
   "outputs": [
    {
     "data": {
      "image/jpeg": "[encoded data removed]",
      "text/html": [
       "\n",
       "        <iframe\n",
       "            width=\"800\"\n",
       "            height=\"500\"\n",
       "            src=\"https://www.youtube.com/embed/mJeNghZXtMo\"\n",
       "            frameborder=\"0\"\n",
       "            allowfullscreen\n",
       "        ></iframe>\n",
       "        "
      ],
      "text/plain": [
       "<IPython.lib.display.YouTubeVideo at 0xf4562d0>"
      ]
     },
     "execution_count": 49,
     "metadata": {},
     "output_type": "execute_result"
    }
   ],
   "source": [
    "from IPython.display import YouTubeVideo\n",
    "YouTubeVideo('mJeNghZXtMo', width=800, height=500)"
   ]
  }
 ],
 "metadata": {
  "kernelspec": {
   "display_name": "Python 3",
   "language": "python",
   "name": "python3"
  },
  "language_info": {
   "codemirror_mode": {
    "name": "ipython",
    "version": 3
   },
   "file_extension": ".py",
   "mimetype": "text/x-python",
   "name": "python",
   "nbconvert_exporter": "python",
   "pygments_lexer": "ipython3",
   "version": "3.7.0"
  },
  "toc": {
   "base_numbering": 1,
   "nav_menu": {},
   "number_sections": false,
   "sideBar": true,
   "skip_h1_title": false,
   "title_cell": "Table of Contents",
   "title_sidebar": "Contents",
   "toc_cell": true,
   "toc_position": {
    "height": "351.643px",
    "left": "598px",
    "top": "256.038px",
    "width": "243.303px"
   },
   "toc_section_display": true,
   "toc_window_display": true
  }
 },
 "nbformat": 4,
 "nbformat_minor": 2
}
