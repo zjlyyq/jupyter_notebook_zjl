{
 "cells": [
  {
   "cell_type": "code",
   "execution_count": 26,
   "metadata": {},
   "outputs": [],
   "source": [
    "import requests\n",
    "import pandas as pd \n",
    "from bs4 import BeautifulSoup as bs\n",
    "import lxml\n",
    "\n",
    "url = 'https://maoyan.com/films?showType=3'\n",
    "user_agent = 'Mozilla/5.0 (Macintosh; Intel Mac OS X 10_15_1) AppleWebKit/537.36 (KHTML, like Gecko) Chrome/78.0.3904.108 Safari/537.36'\n",
    "header = {'user-agent':user_agent}\n",
    "header['cookie'] = 'uuid_n_v=v1; uuid=DBBF8080B84B11EAA2F937AFDFBC83F6E3D6500DF3334AB688D90E995F4FF5B9; _csrf=414bcb23617f9f8a1b66b28cae1da336fdc919f8fa8c45112a5ac5d3336e2c06; Hm_lvt_703e94591e87be68cc8da0da7cbd0be2=1593244647; _lxsdk_cuid=172f4c7fca6c8-0b3b8d4aeedb8b-143f6257-13c680-172f4c7fca6c8; _lxsdk=DBBF8080B84B11EAA2F937AFDFBC83F6E3D6500DF3334AB688D90E995F4FF5B9; mojo-uuid=bd3c15ae11ee359cae6c7c6c2f4fe5e5; mojo-session-id={\"id\":\"0d79040534f8648ab2b3b3856498e563\",\"time\":1593257290343}; mojo-trace-id=4; Hm_lpvt_703e94591e87be68cc8da0da7cbd0be2=1593257716; _lxsdk_s=172f588e4ed-70c-b6a-341%7C%7C8; __mta=147593096.1593244647388.1593257565159.1593257716383.13'\n",
    "response = requests.get(url, headers=header)\n",
    "\n",
    "# print(response.text)\n",
    "bs_info = bs(response.text, 'html.parser')\n",
    "\n",
    "movies_info = bs_info.find_all('div', attrs={\"class\": \"movie-item-hover\"})\n",
    "movies = []\n",
    "for info in movies_info:\n",
    "    movie = {}\n",
    "    movie_name = info.find('span', attrs={'class': 'name'}).text\n",
    "    print(f'电影名：{movie_name}')\n",
    "    movie['name'] = movie_name\n",
    "    other =  info.find_all('div', attrs={\"class\": \"movie-hover-title\"}) \n",
    "    movie['type'] = other[1].text.rstrip(\"\\n\")\n",
    "    movie['actors'] = other[2].text.rstrip(\"\\n\")\n",
    "    movie['date'] = other[3].text.rstrip(\"\\n\")\n",
    "    movies.append(movie)\n",
    "    if len(movies) > 9:\n",
    "        break\n",
    "# xml处理\n",
    "selector = lxml.etree.HTML(response.text)\n",
    "moviesselector = selector.xpath('//div[@class=\"movie-hover-info\"]')\n",
    "moviesselector = moviesselector[:10]\n",
    "for s in moviesselector:\n",
    "    infos = s.xpath('./div[contains(@class, \"movie-hover-title\")]')\n",
    "    name = infos[0].xpath('./span[@class=\"name \"]')\n",
    "    print(name[0].extract())\n",
    "\n",
    "\n",
    "# print(movies)"
   ]
  }
 ],
 "metadata": {
  "kernelspec": {
   "display_name": "Python 3",
   "language": "python",
   "name": "python3"
  },
  "language_info": {
   "codemirror_mode": {
    "name": "ipython",
    "version": 3
   },
   "file_extension": ".py",
   "mimetype": "text/x-python",
   "name": "python",
   "nbconvert_exporter": "python",
   "pygments_lexer": "ipython3",
   "version": "3.6.0"
  }
 },
 "nbformat": 4,
 "nbformat_minor": 2
}
