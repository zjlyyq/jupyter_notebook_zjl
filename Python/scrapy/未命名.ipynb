{
 "cells": [
  {
   "cell_type": "code",
   "execution_count": 10,
   "metadata": {},
   "outputs": [
    {
     "name": "stdout",
     "output_type": "stream",
     "text": [
      "{'ip': '115.194.220.145', 'about': 'https://jsonip.com/about', 'Pro!': 'http://getjsonip.com', 'Get Notifications': 'https://jsonip.com/notify'}\n"
     ]
    }
   ],
   "source": [
    "import requests\n",
    "import json\n",
    "ip_url = \"http://jsonip.com/\"\n",
    "req = requests.get(ip_url)\n",
    "# print(req.text)\n",
    "ip_json = json.loads(req.text)\n",
    "print(ip_json)"
   ]
  }
 ],
 "metadata": {
  "kernelspec": {
   "display_name": "Python 3",
   "language": "python",
   "name": "python3"
  },
  "language_info": {
   "codemirror_mode": {
    "name": "ipython",
    "version": 3
   },
   "file_extension": ".py",
   "mimetype": "text/x-python",
   "name": "python",
   "nbconvert_exporter": "python",
   "pygments_lexer": "ipython3",
   "version": "3.6.0"
  }
 },
 "nbformat": 4,
 "nbformat_minor": 2
}
