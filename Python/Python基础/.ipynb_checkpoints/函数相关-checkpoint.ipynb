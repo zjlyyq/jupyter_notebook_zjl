{
 "cells": [
  {
   "cell_type": "markdown",
   "metadata": {},
   "source": [
    "关于函数的定义方法，作用域之类的东西就不说了。\n",
    "### 函数的嵌套\n",
    "所谓的函数嵌套，就是指函数里面又有函数，比如："
   ]
  },
  {
   "cell_type": "code",
   "execution_count": 6,
   "metadata": {},
   "outputs": [
    {
     "name": "stdout",
     "output_type": "stream",
     "text": [
      "hello,\n",
      "my name istony ma\n"
     ]
    }
   ],
   "source": [
    "def introduce(message):\n",
    "    def hello():\n",
    "        print('hello,')\n",
    "    hello()\n",
    "    print('my name is'+message)\n",
    "\n",
    "introduce('tony ma')"
   ]
  },
  {
   "cell_type": "markdown",
   "metadata": {},
   "source": [
    "#### 函数的嵌套有什么好处？\n",
    "1. 保证隐私\n",
    "2. 合理的使用函数嵌套，能够提高程序的运行效率，看下面这个例子："
   ]
  },
  {
   "cell_type": "code",
   "execution_count": 8,
   "metadata": {},
   "outputs": [
    {
     "name": "stdout",
     "output_type": "stream",
     "text": [
      "120\n"
     ]
    }
   ],
   "source": [
    "\n",
    "def factorial(input):\n",
    "    # validation check\n",
    "    if not isinstance(input, int):\n",
    "        raise Exception('input must be an integer.')\n",
    "    if input < 0:\n",
    "        raise Exception('input must be greater or equal to 0' )\n",
    "    ...\n",
    "\n",
    "    def inner_factorial(input):\n",
    "        if input <= 1:\n",
    "            return 1\n",
    "        return input * inner_factorial(input-1)\n",
    "    return inner_factorial(input)\n",
    "\n",
    "\n",
    "print(factorial(5))"
   ]
  },
  {
   "cell_type": "markdown",
   "metadata": {},
   "source": [
    "这里，我们使用递归的方式计算一个数的阶乘。因为在计算之前，需要检查输入是否合法，所以我写成了函数嵌套的形式，这样一来，输入是否合法就只用检查一次。而如果我们不使用函数嵌套，那么每调用一次递归便会检查一次，这是没有必要的，也会降低程序的运行效率。"
   ]
  },
  {
   "cell_type": "markdown",
   "metadata": {},
   "source": [
    "### 闭包\n",
    "闭包其实和刚刚讲的嵌套函数类似，不同的是，这里外部函数返回的是一个函数，而不是一个具体的值。返回的函数通常赋于一个变量，这个变量可以在后面被继续执行调用。\n",
    "> 相当于动态返回一个函数，有时候并不确定需要什么函数的时候，就要使用闭包。"
   ]
  },
  {
   "cell_type": "code",
   "execution_count": 10,
   "metadata": {},
   "outputs": [
    {
     "name": "stdout",
     "output_type": "stream",
     "text": [
      "<function nth_power.<locals>.exponent_of at 0x10c110158>\n",
      "<function nth_power.<locals>.exponent_of at 0x10c110510>\n",
      "4\n",
      "8\n"
     ]
    }
   ],
   "source": [
    "\n",
    "def nth_power(exponent):\n",
    "    def exponent_of(base):\n",
    "        return base ** exponent\n",
    "    return exponent_of # 返回值是exponent_of函数\n",
    "\n",
    "square = nth_power(2) # 计算一个数的平方\n",
    "cube = nth_power(3) # 计算一个数的立方 \n",
    "print(square)\n",
    "print(cube)\n",
    "print(square(2))  # 计算2的平方\n",
    "print(cube(2)) # 计算2的立方\n"
   ]
  },
  {
   "cell_type": "markdown",
   "metadata": {},
   "source": [
    "如果不使用闭包，功能同样能实现，但语义化显然没有使用闭包来得强。"
   ]
  },
  {
   "cell_type": "code",
   "execution_count": 16,
   "metadata": {},
   "outputs": [
    {
     "name": "stdout",
     "output_type": "stream",
     "text": [
      "4\n",
      "8\n"
     ]
    }
   ],
   "source": [
    "def exponent_of(base,exponent):\n",
    "    return base ** exponent\n",
    "\n",
    "print(exponent_of(2,2))\n",
    "print(exponent_of(2,3))"
   ]
  },
  {
   "cell_type": "markdown",
   "metadata": {},
   "source": [
    "总结下闭包的优点：\n",
    "1. 可读性更强\n",
    "2. 有些额外的重复性工作可以放在外部函数处理\n",
    "3. 闭包常常和装饰器放在一起使用"
   ]
  },
  {
   "cell_type": "markdown",
   "metadata": {},
   "source": [
    "### 匿名函数\n",
    "```\n",
    "lambda argument1, argument2,... argumentN : expression\n",
    "```\n",
    "以下是一些栗子🌰"
   ]
  },
  {
   "cell_type": "code",
   "execution_count": 3,
   "metadata": {},
   "outputs": [
    {
     "data": {
      "text/plain": [
       "4"
      ]
     },
     "execution_count": 3,
     "metadata": {},
     "output_type": "execute_result"
    }
   ],
   "source": [
    "square = lambda x:x ** 2\n",
    "square(2)"
   ]
  },
  {
   "cell_type": "code",
   "execution_count": 7,
   "metadata": {},
   "outputs": [
    {
     "name": "stdout",
     "output_type": "stream",
     "text": [
      "2\n",
      "<function <lambda> at 0x10cddea60>\n"
     ]
    }
   ],
   "source": [
    "add_fun = lambda x,y:x+y\n",
    "print(add_fun(1,1))\n",
    "print(add_fun)"
   ]
  },
  {
   "cell_type": "markdown",
   "metadata": {},
   "source": [
    "#### 匿名函数lambda和普通函数的区别\n",
    "+ lambda 是一个表达式（expression），并不是一个语句（statement）\n",
    "\n",
    "因此，lambda 可以用在一些常规函数 def 不能用的地方"
   ]
  },
  {
   "cell_type": "code",
   "execution_count": 19,
   "metadata": {},
   "outputs": [
    {
     "name": "stdout",
     "output_type": "stream",
     "text": [
      "[0, 1, 4, 9, 16, 25, 36, 49, 64, 81]\n",
      "<function <lambda> at 0x10cdde9d8>\n",
      "[(2, -1), (3, 0), (9, 10), (1, 20)]\n"
     ]
    }
   ],
   "source": [
    "# 放在列表内部\n",
    "print([(lambda x: x*x)(x) for x in range(10)])  #什么写法？\n",
    "#用作某些函数的参数\n",
    "print(lambda x,y:x+y)\n",
    "l = [(1, 20), (3, 0), (9, 10), (2, -1)]\n",
    "l.sort(key=lambda x:x[1]) #按列表中元祖的第二个元素排序\n",
    "print(l)"
   ]
  },
  {
   "cell_type": "markdown",
   "metadata": {},
   "source": [
    "+ lambda 的主体是只有一行的简单表达式，并不能扩展成一个多行的代码块。\n",
    "在我看来，Python的设计者就是想让lambda和普通函数各司其职，多使用lambda能让代码看起来更加的简洁。让我想起了一个词：Pythonic。果然在Python之父Guido van Rossum的这篇[文章](https://www.artima.com/weblogs/viewpost.jsp?thread=147358)中看到了这个词😂。"
   ]
  },
  {
   "cell_type": "markdown",
   "metadata": {},
   "source": [
    "### python函数式编程\n",
    "所谓函数式编程，是指代码中每一块都是不可变的（immutable），都由纯函数（pure function）的形式组成。这里的纯函数，是指函数本身相互独立、互不影响，对于相同的输入，总会有相同的输出，没有任何副作用\n",
    "\n",
    "函数式编程的优点，主要在于其纯函数和不可变的特性使程序更加健壮，易于调试（debug）和测试；缺点主要在于限制多，难写。当然，Python 不同于一些语言（比如 Scala），它并不是一门函数式编程语言，不过，Python 也提供了一些函数式编程的特性，值得我们了解和学习。\n",
    "\n",
    "Python 主要提供了这么几个函数：map()、filter() 和 reduce()，通常结合匿名函数 lambda 一起使用。\n",
    "\n",
    "总而言之，以上函数都不是原地函数。"
   ]
  },
  {
   "cell_type": "markdown",
   "metadata": {},
   "source": [
    "#### map(function,iterable)\n",
    "\n",
    "对 iterable 中的每个元素，都运用 function 这个函数，最后返回一个新的可遍历的集合。"
   ]
  },
  {
   "cell_type": "code",
   "execution_count": 2,
   "metadata": {},
   "outputs": [
    {
     "name": "stdout",
     "output_type": "stream",
     "text": [
      "[1, 2, 3, 4]\n",
      "1\n",
      "4\n",
      "<map object at 0x10a593d30>\n",
      "[1, 2]\n",
      "[1, 4, 9, 16, 25]\n",
      "1\n",
      "4\n",
      "9\n",
      "16\n",
      "25\n"
     ]
    }
   ],
   "source": [
    "l = [1,2,3,4]\n",
    "print(l)\n",
    "def double(x):\n",
    "    return x**2\n",
    "double_list = map(double,l)\n",
    "# print(list(double_list))\n",
    "for item in double_list:\n",
    "    if(item > 5):\n",
    "        break\n",
    "    print(item)\n",
    "print(double_list)\n",
    "print(list([1,2]))\n",
    "\n",
    "xs = [1,2,3,4,5]\n",
    "ll = [x ** 2 for x in xs]\n",
    "print(ll)\n",
    "for i in ll:\n",
    "    print(i)"
   ]
  },
  {
   "cell_type": "markdown",
   "metadata": {},
   "source": [
    "但是我返现map返回的课可遍历的集合只能遍历一次，而且遍历后的元素就从集合中剔除了。"
   ]
  },
  {
   "cell_type": "markdown",
   "metadata": {},
   "source": [
    "看一下 Python 提供的函数式编程接口的性能。还是同样的列表例子，它还可以用 for 循环和 list comprehension（目前没有统一中文叫法，你也可以直译为列表理解等）实现，我们来比较一下它们的速度："
   ]
  },
  {
   "cell_type": "code",
   "execution_count": 40,
   "metadata": {},
   "outputs": [
    {
     "name": "stdout",
     "output_type": "stream",
     "text": [
      "1000000 loops, best of 3: 0.257 usec per loop\n",
      "10 loops, best of 3: 179 msec per loop\n",
      "10 loops, best of 3: 94.7 msec per loop\n",
      "10 loops, best of 3: 157 msec per loop\n"
     ]
    }
   ],
   "source": [
    "!python3 -mtimeit -s'xs=range(1000000)' 'map(lambda x: x*2, xs)'\n",
    "!python3 -mtimeit -s'xs=range(1000000)' 'list(map(lambda x: x*2, xs))'\n",
    "!python3 -mtimeit -s'xs=range(1000000)' 'list = [x * 2 for x in xs]'\n",
    "!python3 -mtimeit -s'xs=range(1000000)' 'l = []' 'for i in xs: l.append(i * 2)'"
   ]
  },
  {
   "cell_type": "markdown",
   "metadata": {},
   "source": [
    "你可以看到，map() 是最快的。因为 map() 函数直接由 C 语言写的，运行时不需要通过 Python 解释器间接调用，并且内部做了诸多优化，所以运行速度最快。\n",
    "\n",
    "> `[x*2 for x in xs]`,这种写法叫做'list comprehension'，综合考虑我认为是最好的写法，list既能复用，语法也足够pythonic。"
   ]
  },
  {
   "cell_type": "markdown",
   "metadata": {},
   "source": [
    "#### filter(function,iterable)\n",
    "对 iterable 中的每个元素，都使用 function 判断，并返回 True 或者 False，最后将返回 True 的元素组成一个新的可遍历的集合。"
   ]
  },
  {
   "cell_type": "code",
   "execution_count": 31,
   "metadata": {},
   "outputs": [
    {
     "name": "stdout",
     "output_type": "stream",
     "text": [
      "[2, 4]\n"
     ]
    }
   ],
   "source": [
    "l = [1, 2, 3, 4, 5]\n",
    "new_list = filter(lambda x: x % 2 == 0, l) # [2, 4]\n",
    "print(list(new_list))"
   ]
  },
  {
   "cell_type": "markdown",
   "metadata": {},
   "source": [
    "#### reduce(function, iterable)\n",
    "它通常用来对一个集合做一些累积操作。\n",
    "\n",
    "function 同样是一个函数对象，规定它有两个参数，表示对 iterable 中的每个元素以及上一次调用后的结果，运用 function 进行计算，所以最后返回的是一个单独的数值。\n",
    "\n",
    "例如，对一个列表里的元素做累加操作："
   ]
  },
  {
   "cell_type": "code",
   "execution_count": 3,
   "metadata": {},
   "outputs": [
    {
     "data": {
      "text/plain": [
       "10"
      ]
     },
     "execution_count": 3,
     "metadata": {},
     "output_type": "execute_result"
    }
   ],
   "source": [
    "from functools import reduce  #py3,py2直接使用\n",
    "list = [1,2,3,4]\n",
    "reduce(lambda x,y:x+y,list)"
   ]
  },
  {
   "cell_type": "markdown",
   "metadata": {},
   "source": [
    "### 思考题\n",
    "1. 对一个字典，根据值进行由高到底的排序?\n"
   ]
  },
  {
   "cell_type": "code",
   "execution_count": 24,
   "metadata": {},
   "outputs": [
    {
     "name": "stdout",
     "output_type": "stream",
     "text": [
      "dict_items([('mike', 10), ('lucy', 2), ('ben', 30)])\n",
      "[(2, 3), (1, 2), (2, 1)]\n"
     ]
    },
    {
     "data": {
      "text/plain": [
       "[('ben', 30), ('mike', 10), ('lucy', 2)]"
      ]
     },
     "execution_count": 24,
     "metadata": {},
     "output_type": "execute_result"
    }
   ],
   "source": [
    "d = {'mike': 10, 'lucy': 2, 'ben': 30}\n",
    "print(d.items())\n",
    "l = [(1,2),(2,1),(2,3)]\n",
    "print(sorted(l,key=lambda x:x[1],reverse=True))\n",
    "sorted(d.items(),key=lambda x:x[1],reverse=True)"
   ]
  },
  {
   "cell_type": "markdown",
   "metadata": {},
   "source": [
    "### 扩展\n",
    "关于可迭代对象"
   ]
  }
 ],
 "metadata": {
  "kernelspec": {
   "display_name": "Python 3",
   "language": "python",
   "name": "python3"
  },
  "language_info": {
   "codemirror_mode": {
    "name": "ipython",
    "version": 3
   },
   "file_extension": ".py",
   "mimetype": "text/x-python",
   "name": "python",
   "nbconvert_exporter": "python",
   "pygments_lexer": "ipython3",
   "version": "3.6.0"
  }
 },
 "nbformat": 4,
 "nbformat_minor": 2
}
