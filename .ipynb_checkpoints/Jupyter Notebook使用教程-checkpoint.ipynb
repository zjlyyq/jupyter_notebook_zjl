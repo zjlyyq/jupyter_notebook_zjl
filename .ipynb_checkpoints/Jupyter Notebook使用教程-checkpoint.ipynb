{
 "cells": [
  {
   "cell_type": "markdown",
   "metadata": {},
   "source": [
    "#### 什么是Jupyter Notebook\n",
    "Jupyter Notebook是Ipython Book的继任者。在我看来它的核心价值是实现了在笔记本中展示了代码块的运行的运行结果，大大增强了笔记的可读性。从此，你写的笔记不再是一堆虚无缥缈，看得见摸不着的文字，而是可以运行的代码块和文字的集合。"
   ]
  },
  {
   "cell_type": "code",
   "execution_count": 1,
   "metadata": {},
   "outputs": [
    {
     "name": "stdout",
     "output_type": "stream",
     "text": [
      "D:\\CodeIsMyLife\\jupyter_notebook\n",
      "D:\\CodeIsMyLife\\jupyter_notebook\n"
     ]
    }
   ],
   "source": [
    "import os\n",
    "print(os.getcwd())\n",
    "print(os.getcwd())"
   ]
  },
  {
   "cell_type": "markdown",
   "metadata": {},
   "source": [
    "什么意思呢？请看下面这张图。\n",
    "![image](http://121.199.20.52/the_static/Jupyter%20Notebook.png)"
   ]
  },
  {
   "cell_type": "code",
   "execution_count": null,
   "metadata": {},
   "outputs": [],
   "source": []
  }
 ],
 "metadata": {
  "kernelspec": {
   "display_name": "Python 3",
   "language": "python",
   "name": "python3"
  },
  "language_info": {
   "codemirror_mode": {
    "name": "ipython",
    "version": 3
   },
   "file_extension": ".py",
   "mimetype": "text/x-python",
   "name": "python",
   "nbconvert_exporter": "python",
   "pygments_lexer": "ipython3",
   "version": "3.7.0"
  }
 },
 "nbformat": 4,
 "nbformat_minor": 2
}
